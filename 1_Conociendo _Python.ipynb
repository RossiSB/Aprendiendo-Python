{
 "cells": [
  {
   "cell_type": "code",
   "execution_count": 18,
   "id": "5c96c9db",
   "metadata": {},
   "outputs": [
    {
     "name": "stdout",
     "output_type": "stream",
     "text": [
      "RSB\n"
     ]
    }
   ],
   "source": [
    "nombre = \"Rossi Silva Blas\"\n",
    "substring = nombre[0]\n",
    "substring += nombre[6]\n",
    "substring += nombre[12]\n",
    "print(substring)\n",
    "\n"
   ]
  },
  {
   "cell_type": "code",
   "execution_count": 21,
   "id": "986950c2",
   "metadata": {},
   "outputs": [
    {
     "name": "stdout",
     "output_type": "stream",
     "text": [
      "Tus iniciales son: R. S. B.\n"
     ]
    }
   ],
   "source": [
    "nombre =\"Rossi\"\n",
    "apellido1 =\"Silva\"\n",
    "apellido2 =\"Blas\"\n",
    "print(\"Tus iniciales son:\",nombre[0].upper()+ \".\",apellido1[0].upper()+ \".\",apellido2[0].upper()+ \".\")\n",
    "      "
   ]
  },
  {
   "cell_type": "code",
   "execution_count": 1,
   "id": "564612d8",
   "metadata": {},
   "outputs": [
    {
     "name": "stdout",
     "output_type": "stream",
     "text": [
      "Introduce tu peso en kilogramos: 75\n",
      "Introduce tu altura en metros: 1.55\n",
      "Tu IMC es: 31.22\n"
     ]
    }
   ],
   "source": [
    "def calcular_imc(peso, altura):\n",
    "    imc = peso / (altura ** 2)\n",
    "    return imc\n",
    "\n",
    "peso = float(input(\"Introduce tu peso en kilogramos: \"))\n",
    "altura = float(input(\"Introduce tu altura en metros: \"))\n",
    "\n",
    "resultado = calcular_imc(peso, altura)\n",
    "print(\"Tu IMC es: {:.2f}\".format(resultado))"
   ]
  },
  {
   "cell_type": "code",
   "execution_count": 4,
   "id": "1db54282",
   "metadata": {},
   "outputs": [
    {
     "name": "stdout",
     "output_type": "stream",
     "text": [
      "8.5\n"
     ]
    },
    {
     "data": {
      "text/plain": [
       "float"
      ]
     },
     "execution_count": 4,
     "metadata": {},
     "output_type": "execute_result"
    }
   ],
   "source": [
    "calificacion = float(8.5)\n",
    "print(calificacion)\n",
    "\n",
    "type(calificacion)\n",
    "\n",
    "\n"
   ]
  },
  {
   "cell_type": "code",
   "execution_count": 5,
   "id": "20edf5da",
   "metadata": {},
   "outputs": [
    {
     "name": "stdout",
     "output_type": "stream",
     "text": [
      "Introduce tu nombre: Rossi\n",
      "Rossi : 8.5\n"
     ]
    }
   ],
   "source": [
    "nombre = input(\"Introduce tu nombre: \")\n",
    "calificacion = float(8.5)\n",
    "\n",
    "print(nombre,\":\",calificacion)\n",
    "\n",
    "\n"
   ]
  },
  {
   "cell_type": "code",
   "execution_count": 6,
   "id": "bd0983fc",
   "metadata": {},
   "outputs": [
    {
     "name": "stdout",
     "output_type": "stream",
     "text": [
      "Introduce un número entero: 6\n",
      "Introduce un número decimal: 3.3\n",
      "Introduce un número entero: 7\n",
      "El resultado de la suma es: 9.3\n",
      "La multiplicación de la suma por el entero es: 65.10000000000001\n"
     ]
    }
   ],
   "source": [
    "entero1 =int(input(\"Introduce un número entero: \"))\n",
    "decimal =float(input(\"Introduce un número decimal: \"))\n",
    "suma =float(entero1+decimal)\n",
    "entero2 =int(input(\"Introduce un número entero: \"))\n",
    "multiplicar =float(suma*entero2)\n",
    "print(\"El resultado de la suma es:\",suma)\n",
    "print (\"La multiplicación de la suma por el entero es:\",multiplicar)\n"
   ]
  },
  {
   "cell_type": "code",
   "execution_count": 7,
   "id": "2aa62065",
   "metadata": {},
   "outputs": [
    {
     "name": "stdout",
     "output_type": "stream",
     "text": [
      "4\n"
     ]
    }
   ],
   "source": [
    "G = 5 \n",
    "\n",
    "G = 4 \n",
    "\n",
    "g = 2 \n",
    "print(G)"
   ]
  },
  {
   "cell_type": "code",
   "execution_count": 8,
   "id": "c640bb4c",
   "metadata": {},
   "outputs": [
    {
     "ename": "SyntaxError",
     "evalue": "invalid character '–' (U+2013) (1336586586.py, line 3)",
     "output_type": "error",
     "traceback": [
      "\u001b[1;36m  File \u001b[1;32m\"C:\\Users\\Hp\\AppData\\Local\\Temp\\ipykernel_13856\\1336586586.py\"\u001b[1;36m, line \u001b[1;32m3\u001b[0m\n\u001b[1;33m    14 – 2\u001b[0m\n\u001b[1;37m       ^\u001b[0m\n\u001b[1;31mSyntaxError\u001b[0m\u001b[1;31m:\u001b[0m invalid character '–' (U+2013)\n"
     ]
    }
   ],
   "source": [
    "Y = 14 + 2\n",
    "14 – 2"
   ]
  },
  {
   "cell_type": "code",
   "execution_count": 9,
   "id": "f4542428",
   "metadata": {},
   "outputs": [
    {
     "data": {
      "text/plain": [
       "20"
      ]
     },
     "execution_count": 9,
     "metadata": {},
     "output_type": "execute_result"
    }
   ],
   "source": [
    "Z = 18\n",
    "\n",
    "Z + 2"
   ]
  },
  {
   "cell_type": "code",
   "execution_count": 18,
   "id": "a69cb963",
   "metadata": {},
   "outputs": [
    {
     "name": "stdout",
     "output_type": "stream",
     "text": [
      "Introduce el valor de a: 5\n",
      "Introduce el valor de b: 8\n",
      "Introduce el valor de c: -2\n",
      "El valor de la primera raíz es:  0.2198039027185569\n",
      "El valor de la segunda raíz es:  -1.8198039027185569\n"
     ]
    }
   ],
   "source": [
    "import math\n",
    "a = int(input(\"Introduce el valor de a: \"))\n",
    "b = int(input(\"Introduce el valor de b: \"))\n",
    "c = int(input(\"Introduce el valor de c: \"))\n",
    "raiz =(b**2 - 4*a*c)\n",
    "respuesta1 = (-b + math.sqrt(raiz))/(2*a)\n",
    "respuesta2 = (-b - math.sqrt(raiz))/(2*a)\n",
    "print(\"El valor de la primera raíz es: \",respuesta1)\n",
    "print(\"El valor de la segunda raíz es: \",respuesta2)\n"
   ]
  },
  {
   "cell_type": "code",
   "execution_count": 20,
   "id": "70adb187",
   "metadata": {},
   "outputs": [
    {
     "name": "stdout",
     "output_type": "stream",
     "text": [
      "Introduce tu peso: 65\n",
      "Introduce tu altura: 1.58\n",
      "Tu índice de masa corporal es: 26.037493991347535\n"
     ]
    }
   ],
   "source": [
    "peso = float (input (\"Introduce tu peso: \"))\n",
    "\n",
    "altura = float (input (\"Introduce tu altura: \"))\n",
    "\n",
    "\n",
    "\n",
    "imc = peso/(altura**2)\n",
    "\n",
    "print(\"Tu índice de masa corporal es:\", imc)"
   ]
  },
  {
   "cell_type": "code",
   "execution_count": 24,
   "id": "f75315a5",
   "metadata": {},
   "outputs": [
    {
     "name": "stdout",
     "output_type": "stream",
     "text": [
      "Introduce el saldo de tu cuenta: 15000\n",
      "Tu saldo después del primer año es:  15450.0\n",
      "Tu saldo después del segundo año es:  15913.5\n"
     ]
    }
   ],
   "source": [
    "saldo =float(input(\"Introduce el saldo de tu cuenta: \" ))\n",
    "interes = float(saldo*0.03)\n",
    "year1 = float(saldo + interes)\n",
    "print(\"Tu saldo después del primer año es: \",year1)\n",
    "interes2 = float(year1*0.03)\n",
    "year2 = float(year1 + interes2)\n",
    "print(\"Tu saldo después del segundo año es: \",year2)\n"
   ]
  },
  {
   "cell_type": "code",
   "execution_count": 25,
   "id": "6f03e695",
   "metadata": {},
   "outputs": [
    {
     "name": "stdout",
     "output_type": "stream",
     "text": [
      "¿Cuántos euros tienes? 90\n",
      "¿Cuántos dólares tienes? 300\n",
      "Entonces tienes 328.2 libras\n"
     ]
    }
   ],
   "source": [
    "euros = float (input (\"¿Cuántos euros tienes? \"))\n",
    "dolares = float (input (\"¿Cuántos dólares tienes? \"))\n",
    "dolares_Libras = dolares * 0.83\n",
    "euros_Libras = euros * 0.88\n",
    "totalLibras = dolares_Libras + euros_Libras\n",
    "print(\"Entonces tienes\", totalLibras, \"libras\")"
   ]
  },
  {
   "cell_type": "code",
   "execution_count": 28,
   "id": "c2957b51",
   "metadata": {},
   "outputs": [
    {
     "name": "stdout",
     "output_type": "stream",
     "text": [
      "Pytho\n"
     ]
    }
   ],
   "source": [
    "Texto = \"Python Data Analyst\"\n",
    "\n",
    "\n",
    "Resultado = Texto [0:5]\n",
    "\n",
    "print(Resultado)"
   ]
  },
  {
   "cell_type": "code",
   "execution_count": 29,
   "id": "facc72bb",
   "metadata": {},
   "outputs": [
    {
     "name": "stdout",
     "output_type": "stream",
     "text": [
      "Introduce una palabra: casa\n",
      "casa tiene 4 letras\n"
     ]
    }
   ],
   "source": [
    "palabra =input(\"Introduce una palabra: \")\n",
    "cantidad =len(palabra)\n",
    "print(palabra ,\"tiene\" , cantidad ,\"letras\")"
   ]
  },
  {
   "cell_type": "raw",
   "id": "dd1677c7",
   "metadata": {},
   "source": []
  }
 ],
 "metadata": {
  "kernelspec": {
   "display_name": "Python 3 (ipykernel)",
   "language": "python",
   "name": "python3"
  },
  "language_info": {
   "codemirror_mode": {
    "name": "ipython",
    "version": 3
   },
   "file_extension": ".py",
   "mimetype": "text/x-python",
   "name": "python",
   "nbconvert_exporter": "python",
   "pygments_lexer": "ipython3",
   "version": "3.9.13"
  }
 },
 "nbformat": 4,
 "nbformat_minor": 5
}
