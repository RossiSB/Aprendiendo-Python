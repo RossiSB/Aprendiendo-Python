{
 "cells": [
  {
   "cell_type": "code",
   "execution_count": null,
   "id": "0d3b0e66",
   "metadata": {},
   "outputs": [],
   "source": [
    "import pandas as pd \n",
    "\n",
    "data = {\"Mes\": [\"Enero\", \"Febrero\", \"Marzo\", \"Abril\", \"Mayo\", \"Junio\", \"Julio\", \"Agosto\", \"Septiembre\", \"Octubre\", \"Noviembre\", \"Diciembre\"],\n",
    "        \"Ventas\": [10000, 15200, 14300, 25800, 2560, 12780, 32500, 23624, 12000, 15858, 23250, 11630],\n",
    "        \"Gastos\": [6500, 6500, 6500, 7850, 6500, 8250, 6500, 9252, 6500, 10250, 12450, 13000],\n",
    "        \"Cobrado\": [\"S\", \"N\", \"N\", \"S\", \"S\", \"N\", \"S\", \"S\", \"S\", \"N\", \"S\", \"N\"]}\n",
    "    \n",
    "df = pd.DataFrame(data)\n",
    "print(df)"
   ]
  },
  {
   "cell_type": "markdown",
   "id": "6c564f69",
   "metadata": {},
   "source": [
    "**Pregunta 1: ¿Cuántas filas tiene el dataframe?\n",
    "Pregunta 2: ¿Cuáles son las columnas que los forman?\n",
    "Pregunta 3: ¿Cuánto espacio ha utilizado en memoria?\n",
    "Pregunta 4: ¿Cuál es la media de las ventas anuales?\n",
    "Pregunta 5: Teniendo en cuenta solo las columnas Ventas y Gastos, al final de año, ¿crees que la empresa es rentable?**"
   ]
  },
  {
   "cell_type": "code",
   "execution_count": 8,
   "id": "c8dfb8c4",
   "metadata": {},
   "outputs": [
    {
     "name": "stdout",
     "output_type": "stream",
     "text": [
      "<class 'pandas.core.frame.DataFrame'>\n",
      "RangeIndex: 12 entries, 0 to 11\n",
      "Data columns (total 4 columns):\n",
      " #   Column   Non-Null Count  Dtype \n",
      "---  ------   --------------  ----- \n",
      " 0   Mes      12 non-null     object\n",
      " 1   Ventas   12 non-null     int64 \n",
      " 2   Gastos   12 non-null     int64 \n",
      " 3   Cobrado  12 non-null     object\n",
      "dtypes: int64(2), object(2)\n",
      "memory usage: 512.0+ bytes\n"
     ]
    }
   ],
   "source": [
    "df.info()"
   ]
  },
  {
   "cell_type": "code",
   "execution_count": 9,
   "id": "9e03479e",
   "metadata": {},
   "outputs": [
    {
     "name": "stdout",
     "output_type": "stream",
     "text": [
      "El promedio de venta anual es: 16625.2\n"
     ]
    }
   ],
   "source": [
    "print(f\"El promedio de venta anual es: {df['Ventas'].mean():.1f}\")"
   ]
  },
  {
   "cell_type": "code",
   "execution_count": 10,
   "id": "ed8bf6f4",
   "metadata": {},
   "outputs": [
    {
     "name": "stdout",
     "output_type": "stream",
     "text": [
      "199502\n",
      "100052\n",
      "La ganancia es 99450,representa una rentabilidad de 50.2%\n"
     ]
    }
   ],
   "source": [
    "total_ventas = df[\"Ventas\"].sum()\n",
    "print(total_ventas)\n",
    "\n",
    "total_gastos = df[\"Gastos\"].sum()\n",
    "print(total_gastos)\n",
    "\n",
    "diferencia = total_ventas - total_gastos \n",
    "rentabilidad = total_gastos/total_ventas*100\n",
    "\n",
    "print(f\"La ganancia es {diferencia},representa una rentabilidad de {rentabilidad:.1f}%\")"
   ]
  },
  {
   "cell_type": "code",
   "execution_count": 11,
   "id": "abd75b54",
   "metadata": {},
   "outputs": [
    {
     "name": "stdout",
     "output_type": "stream",
     "text": [
      "          Mes  Ventas  Gastos Cobrado\n",
      "3       Abril   25800    7850       S\n",
      "6       Julio   32500    6500       S\n",
      "7      Agosto   23624    9252       S\n",
      "10  Noviembre   23250   12450       S\n"
     ]
    }
   ],
   "source": [
    "promedio_anual = df[\"Ventas\"].mean()\n",
    "\n",
    "filtrado = df.loc[df[\"Ventas\"] > promedio_anual]\n",
    "print(filtrado)\n"
   ]
  },
  {
   "cell_type": "code",
   "execution_count": null,
   "id": "5f29be13",
   "metadata": {},
   "outputs": [],
   "source": [
    "print(df_animales[df_animales['Edad'] > 5]) o print(df_animales.loc[df_animales['Edad'] > 5]) o\n",
    "print(df_animales.where(df_animales['Edad'] >5))"
   ]
  },
  {
   "cell_type": "code",
   "execution_count": null,
   "id": "2b1324f7",
   "metadata": {},
   "outputs": [],
   "source": [
    "data = {\"Mes\": [\"Enero\", \"Febrero\", \"Marzo\", \"Abril\", \"Mayo\", \"Junio\", \"Julio\", \"Agosto\", \"Septiembre\", \"Octubre\", \"Noviembre\", \"Diciembre\"],\n",
    "        \"Ventas\": [10000, 15200, 14300, 25800, 2560, 12780, 32500, 23624, 12000, 15858, 23250, 11630],\n",
    "        \"Gastos\": [6500, 6500, 6500, 7850, 6500, 8250, 6500, 9252, 6500, 10250, 12450, 13000],\n",
    "        \"Cobrado\": [\"S\", \"N\", \"N\", \"S\", \"S\", \"N\", \"S\", \"S\", \"S\", \"N\", \"S\", \"N\"]}\n",
    "    \n",
    "df = pd.DataFrame(data)\n",
    "pendiente =  df.loc[df[\"Ventas\"] == \"N\",\"Mes\"]\n",
    "print(pendiente)"
   ]
  },
  {
   "cell_type": "code",
   "execution_count": 1,
   "id": "f1c92b69",
   "metadata": {},
   "outputs": [
    {
     "name": "stdout",
     "output_type": "stream",
     "text": [
      "          Mes  Ventas  Gastos Cobrado\n",
      "4        Mayo    2560    6500       S\n",
      "11  Diciembre   11630   13000       N\n"
     ]
    }
   ],
   "source": [
    "import pandas as pd \n",
    "\n",
    "data = {\"Mes\": [\"Enero\", \"Febrero\", \"Marzo\", \"Abril\", \"Mayo\", \"Junio\", \"Julio\", \"Agosto\", \"Septiembre\", \"Octubre\", \"Noviembre\", \"Diciembre\"],\n",
    "        \"Ventas\": [10000, 15200, 14300, 25800, 2560, 12780, 32500, 23624, 12000, 15858, 23250, 11630],\n",
    "        \"Gastos\": [6500, 6500, 6500, 7850, 6500, 8250, 6500, 9252, 6500, 10250, 12450, 13000],\n",
    "        \"Cobrado\": [\"S\", \"N\", \"N\", \"S\", \"S\", \"N\", \"S\", \"S\", \"S\", \"N\", \"S\", \"N\"]}\n",
    "    \n",
    "df = pd.DataFrame(data)\n",
    "gastos_mayores = df.loc[df[\"Gastos\"] > df[\"Ventas\"]]\n",
    "print(gastos_mayores)"
   ]
  },
  {
   "cell_type": "code",
   "execution_count": 2,
   "id": "15c24c4a",
   "metadata": {},
   "outputs": [
    {
     "name": "stdout",
     "output_type": "stream",
     "text": [
      "           Mes  Ventas  Gastos Cobrado\n",
      "0        Enero   10000    6500       S\n",
      "1      Febrero   15200    6500       N\n",
      "2        Marzo   14300    6500       N\n",
      "3        Abril   25800    7850       S\n",
      "4         Mayo    2560    6500       S\n",
      "5        Junio   12780    8250       N\n",
      "6        Julio   32500    6500       S\n",
      "7       Agosto   23624    9252       S\n",
      "8   Septiembre   12000    6500       S\n",
      "9      Octubre   15858   10250       N\n",
      "10   Noviembre   23250   12450       S\n",
      "11   Diciembre   11630   13000       N\n"
     ]
    }
   ],
   "source": [
    "df_copia = df.copy()\n",
    "print(df_copia)"
   ]
  },
  {
   "cell_type": "code",
   "execution_count": 3,
   "id": "a95c66d2",
   "metadata": {},
   "outputs": [
    {
     "name": "stdout",
     "output_type": "stream",
     "text": [
      "           Mes  Ventas  Gastos Cobrado  Beneficio\n",
      "0        Enero   10000    6500       S          0\n",
      "1      Febrero   15200    6500       N          0\n",
      "2        Marzo   14300    6500       N          0\n",
      "3        Abril   25800    7850       S          0\n",
      "4         Mayo    2560    6500       S          0\n",
      "5        Junio   12780    8250       N          0\n",
      "6        Julio   32500    6500       S          0\n",
      "7       Agosto   23624    9252       S          0\n",
      "8   Septiembre   12000    6500       S          0\n",
      "9      Octubre   15858   10250       N          0\n",
      "10   Noviembre   23250   12450       S          0\n",
      "11   Diciembre   11630   13000       N          0\n"
     ]
    }
   ],
   "source": [
    "agregada = df_copia[\"Beneficio\"] = 0\n",
    "\n",
    "print(df_copia)"
   ]
  },
  {
   "cell_type": "code",
   "execution_count": 4,
   "id": "04972746",
   "metadata": {
    "scrolled": true
   },
   "outputs": [
    {
     "name": "stdout",
     "output_type": "stream",
     "text": [
      "           Mes  Ventas  Gastos Cobrado  Beneficio\n",
      "0        Enero   10000    6500       S       3500\n",
      "1      Febrero   15200    6500       N       8700\n",
      "2        Marzo   14300    6500       N       7800\n",
      "3        Abril   25800    7850       S      17950\n",
      "4         Mayo    2560    6500       S      -3940\n",
      "5        Junio   12780    8250       N       4530\n",
      "6        Julio   32500    6500       S      26000\n",
      "7       Agosto   23624    9252       S      14372\n",
      "8   Septiembre   12000    6500       S       5500\n",
      "9      Octubre   15858   10250       N       5608\n",
      "10   Noviembre   23250   12450       S      10800\n",
      "11   Diciembre   11630   13000       N      -1370\n"
     ]
    }
   ],
   "source": [
    "df_copia[\"Beneficio\"] = df_copia[\"Ventas\"] - df_copia[\"Gastos\"]\n",
    "print(df_copia)"
   ]
  },
  {
   "cell_type": "code",
   "execution_count": 5,
   "id": "d834606b",
   "metadata": {},
   "outputs": [
    {
     "name": "stdout",
     "output_type": "stream",
     "text": [
      "          Mes  Beneficio\n",
      "4        Mayo      -3940\n",
      "11  Diciembre      -1370\n"
     ]
    }
   ],
   "source": [
    "meses_perdida = df_copia.loc[df_copia[\"Beneficio\"] < 0,[\"Mes\", \"Beneficio\"]]\n",
    "print(meses_perdida)"
   ]
  },
  {
   "cell_type": "code",
   "execution_count": 6,
   "id": "de0d5e79",
   "metadata": {},
   "outputs": [
    {
     "name": "stdout",
     "output_type": "stream",
     "text": [
      "     Mes  Ventas  Gastos Cobrado  Beneficio\n",
      "6  Julio   32500    6500       S      26000\n"
     ]
    }
   ],
   "source": [
    "print(df_copia.loc[df_copia[\"Beneficio\"] == df_copia[\"Beneficio\"].max()])"
   ]
  },
  {
   "cell_type": "code",
   "execution_count": 7,
   "id": "37afe91f",
   "metadata": {},
   "outputs": [
    {
     "name": "stdout",
     "output_type": "stream",
     "text": [
      "8287.5\n",
      "          Mes  Ventas  Gastos Cobrado  Beneficio\n",
      "1     Febrero   15200    6500       N       8700\n",
      "3       Abril   25800    7850       S      17950\n",
      "6       Julio   32500    6500       S      26000\n",
      "7      Agosto   23624    9252       S      14372\n",
      "10  Noviembre   23250   12450       S      10800\n"
     ]
    }
   ],
   "source": [
    "print(df_copia[\"Beneficio\"].mean())\n",
    "print(df_copia.loc[df_copia[\"Beneficio\"] > df_copia[\"Beneficio\"].mean()])\n",
    "\n"
   ]
  },
  {
   "cell_type": "code",
   "execution_count": null,
   "id": "f2969fc7",
   "metadata": {},
   "outputs": [],
   "source": []
  }
 ],
 "metadata": {
  "kernelspec": {
   "display_name": "Python 3 (ipykernel)",
   "language": "python",
   "name": "python3"
  },
  "language_info": {
   "codemirror_mode": {
    "name": "ipython",
    "version": 3
   },
   "file_extension": ".py",
   "mimetype": "text/x-python",
   "name": "python",
   "nbconvert_exporter": "python",
   "pygments_lexer": "ipython3",
   "version": "3.9.13"
  }
 },
 "nbformat": 4,
 "nbformat_minor": 5
}
