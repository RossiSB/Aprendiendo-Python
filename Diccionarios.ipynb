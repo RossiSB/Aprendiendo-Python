{
 "cells": [
  {
   "cell_type": "markdown",
   "id": "0faebf2e",
   "metadata": {},
   "source": [
    "# Diccionarios\n",
    "Los diccionarios son estructuras que almacenan conjuntos de pares (dos elementos) que\n",
    "contienen siempre una clave y un valor.\n",
    "Son mutables y admiten, como las listas, las tuplas y los conjuntos, distintos tipos de datos.\n",
    "Cada diccionario se representa entre llaves y la forma de crearlos sería:\n",
    "Nombre del diccionario = {“clave1”: “valor1”, “clave2”: “valor2”, …, “clave_n”: “valor_n”}"
   ]
  },
  {
   "cell_type": "code",
   "execution_count": null,
   "id": "e2bbc8f7",
   "metadata": {},
   "outputs": [],
   "source": [
    "#Diccionarios \n",
    "dicc={\"clave1\": \"valor1\"}\n",
    "print(dicc)\n",
    "#para acceder\n",
    "print(dicc[\"\"])\n",
    "#añadir elemento se pondrá al final\n",
    "dicc[\"apellidos\"]=\"Garcia\"\n",
    "\n",
    "#actualizar o reemplazar\n",
    "dicc(\"nombre\") = \"Sandra\"\n"
   ]
  },
  {
   "cell_type": "markdown",
   "id": "9e5cd1c3",
   "metadata": {},
   "source": [
    "Escribe un programa python que pida un número por teclado\n",
    "y que cree un diccionario cuyas claves sean \n",
    "desde el número 1 hasta el número indicado, y \n",
    "los valores sean los cuadrados de las claves."
   ]
  },
  {
   "cell_type": "code",
   "execution_count": null,
   "id": "2d83fe37",
   "metadata": {},
   "outputs": [],
   "source": [
    "numero = int(input(\"Introduce un número: \"))\n",
    "diccionario = {}\n",
    "for i in range(1, numero+1):\n",
    "    diccionario[i] = i**2\n",
    "print(diccionario)\n"
   ]
  },
  {
   "cell_type": "code",
   "execution_count": null,
   "id": "59885570",
   "metadata": {},
   "outputs": [],
   "source": [
    "numero = int(input(\"Introduce un número entero: \"))\n",
    " \n",
    "diccionario_vacio = {}\n",
    " \n",
    "for i in range(numero+1):\n",
    "    diccionario_vacio[f\"{i}\"] = i**2\n",
    "    \n",
    "print(diccionario_vacio)"
   ]
  },
  {
   "cell_type": "markdown",
   "id": "f3354e46",
   "metadata": {},
   "source": [
    "Desarrolla un programa que reciba una lista de tuplas,\n",
    "y que devuelva un diccionario \n",
    "en donde las claves sean los primeros elementos\n",
    "de las tuplas, y los valores una lista con los segundos."
   ]
  },
  {
   "cell_type": "code",
   "execution_count": null,
   "id": "96ee2017",
   "metadata": {},
   "outputs": [],
   "source": [
    "lista_de_tuplas = [(\"Chile\", \"Santiago\"),(\"Colombia\", \"Bogotá\") ,(\"Perú\", \"Lima\"), (\"España\", \"Madrid\")]\n",
    "dicc = dict(lista_de_tuplas)\n",
    "print(dicc)"
   ]
  },
  {
   "cell_type": "code",
   "execution_count": null,
   "id": "c2272ad1",
   "metadata": {},
   "outputs": [],
   "source": [
    "Dada la lista siguiente lista de países europeos con su población,\n",
    "genera un diccionario que tenga la siguiente pinta:\n",
    "\"Pais_1\" : \"España\", \"Poblacion_1\" : 47,.....,\"Pais_n\" : \"Reino Unido\", \"Poblacion_n\" : 67"
   ]
  },
  {
   "cell_type": "code",
   "execution_count": null,
   "id": "79feaafb",
   "metadata": {},
   "outputs": [],
   "source": [
    "lista_paises_pob = [\"España\", 47, \"Francia\", 68, \"Italia\", 60, \"Alemania\", 82, \"Reino Unido\", 67]\n",
    "print(len(lista_paises_pob))\n",
    " \n",
    "nombres_paises = []\n",
    "poblacion_paises = []\n",
    " \n",
    "diccionario_paises = {}\n",
    " \n",
    "for i in lista_paises_pob:\n",
    "    if type(i) == str:\n",
    "        nombres_paises.append(i)       \n",
    "    elif type(i) == int:\n",
    "        poblacion_paises.append(i)\n",
    " \n",
    "print(nombres_paises)\n",
    "print(poblacion_paises)\n",
    "for j in range(len(lista_paises_pob)//2):\n",
    "    diccionario_paises[f\"Pais_{j+1}\"] = nombres_paises[j]\n",
    "    diccionario_paises[f\"Poblacion_{j+1}\"] = poblacion_paises[j]\n",
    "    \n",
    "print(diccionario_paises)"
   ]
  },
  {
   "cell_type": "code",
   "execution_count": null,
   "id": "62a663f9",
   "metadata": {},
   "outputs": [],
   "source": [
    "lista_paises_pob = [\"España\", 47, \"Francia\", 68, \"Italia\", 60, \"Alemania\", 82, \"Reino Unido\", 67]\n",
    "j=1\n",
    "dic={}\n",
    "for i in range(0,len(lista_paises_pob),2):\n",
    "    dic[f'Pais_{j}']=lista_paises_pob[i]\n",
    "    dic[f'Poblacion_{j}']=lista_paises_pob[i+1]\n",
    "    j+=1\n",
    "print(dic)"
   ]
  },
  {
   "cell_type": "code",
   "execution_count": null,
   "id": "cdc30708",
   "metadata": {},
   "outputs": [],
   "source": [
    "lista_paises_pob = [\"España\", 47, \"Francia\", 68, \"Italia\", 60, \"Alemania\", 82, \"Reino Unido\", 67]\n",
    "dic= {}\n",
    "cont1 = 0\n",
    "cont2 = 0\n",
    "for i in lista_paises_pob:\n",
    "  \n",
    "  if type(i) == str:\n",
    "    cont1 +=1\n",
    "    dic[f\"pais_{cont1}\"]= i\n",
    "    \n",
    "  elif type(i) == int:\n",
    "    cont2 += 1\n",
    "    dic[f\"poblacion_{cont2}\"] = i \n",
    "    \n",
    " \n",
    "print(dic)"
   ]
  },
  {
   "cell_type": "code",
   "execution_count": null,
   "id": "ed5eda68",
   "metadata": {},
   "outputs": [],
   "source": [
    "#AGREGAR\n",
    "animales = {\"perro\":\"galgo\", \"gato\":\"siamés\", \"pájaro\":\"canario\"}\n",
    "animales[\"mariposa\"] =\"monarca\"\n",
    "for i in animales:\n",
    "    print ((i),\"-\",animales[i])\n",
    "    "
   ]
  },
  {
   "cell_type": "code",
   "execution_count": null,
   "id": "8a5e5b91",
   "metadata": {},
   "outputs": [],
   "source": [
    "#REEMPLAZAR\n",
    "animales = {\"perro\":\"galgo\", \"gato\":\"siamés\", \"pájaro\":\"canario\"}\n",
    "animales [\"perro\"] = \"pitbull\"\n",
    "for i in animales:\n",
    "    print ((i),\"-\",animales[i])\n",
    "\n",
    "\n",
    "\n"
   ]
  },
  {
   "cell_type": "code",
   "execution_count": null,
   "id": "28a1aa2e",
   "metadata": {},
   "outputs": [],
   "source": [
    "#Eliminar con pop\n",
    "animales = {\"perro\":\"pitbull\", \"gato\":\"siamés\", \"pájaro\":\"canario\", \"insecto\":\"mosquito\"}\n",
    "animales.pop(\"pájaro\")\n",
    "for i in animales:\n",
    "    print ((i),\"-\",animales[i])\n"
   ]
  },
  {
   "cell_type": "code",
   "execution_count": null,
   "id": "4dfd4234",
   "metadata": {},
   "outputs": [],
   "source": [
    "#Eliminar con del\n",
    "animales = {\"perro\":\"pitbull\", \"gato\":\"siamés\", \"pájaro\":\"canario\", \"insecto\":\"mosquito\"}\n",
    "del animales[\"pájaro\"]\n",
    "for i in animales:\n",
    "    print ((i),\"-\",animales[i])"
   ]
  },
  {
   "cell_type": "code",
   "execution_count": null,
   "id": "743ff74b",
   "metadata": {},
   "outputs": [],
   "source": [
    "# Pedimos al usuario que ingrese sus datos\n",
    "nombre = input(\"Ingresa tu nombre: \")\n",
    "apellidos = input(\"Ingresa tus apellidos: \")\n",
    "edad = input(\"Ingresa tu edad: \")\n",
    "ciudad = input(\"Ingresa la ciudad en la que vives: \")\n",
    "telefono = input(\"Ingresa tu número de teléfono: \")\n",
    "\n",
    "# Creamos el diccionario con los datos del usuario\n",
    "usuario = {\"nombre\": nombre,\"apellidos\": apellidos,\"edad\": edad,\"ciudad\": ciudad,\"telefono\": telefono}\n",
    "\n",
    "print(usuario[\"nombre\"], usuario[\"apellidos\"],\"tiene\",usuario[\"edad\"], \"años, vive en\",usuario[\"ciudad\"], \"y su número de teléfono es\",usuario[\"telefono\"])\n"
   ]
  },
  {
   "cell_type": "code",
   "execution_count": null,
   "id": "400be1a5",
   "metadata": {},
   "outputs": [],
   "source": [
    "# Pedimos al usuario que ingrese sus datos en el caso del print ponerle una comilla al inico y dentro 2 \n",
    "nombre = input(\"Ingresa tu nombre: \")\n",
    "apellidos = input(\"Ingresa tus apellidos: \")\n",
    "edad = input(\"Ingresa tu edad: \")\n",
    "ciudad = input(\"Ingresa la ciudad en la que vives: \")\n",
    "telefono = input(\"Ingresa tu número de teléfono: \")\n",
    "\n",
    "# Creamos el diccionario con los datos del usuario\n",
    "usuario = {\"nombre\": nombre,\"apellidos\": apellidos,\"edad\": edad,\"ciudad\": ciudad,\"telefono\": telefono}\n",
    "    \n",
    "print(f'{usuario[\"nombre\"]} {usuario[\"apellidos\"]} tiene {usuario[\"edad\"]} años, vive en {usuario[\"ciudad\"]} y su número de teléfono es {usuario[\"telefono\"]}')\n"
   ]
  },
  {
   "cell_type": "code",
   "execution_count": null,
   "id": "28efec9a",
   "metadata": {},
   "outputs": [],
   "source": [
    "#funciona while ya que podemos solicitar muchas veces el mismo dato\n",
    "agenda = {}\n",
    "\n",
    "clave = input(\"¿Qué dato quieres incluir en la agenda? (Nombre, Teléfono, Email, etc.): \")\n",
    "valor = input(\"Introduce el valor del dato que has seleccionado: \")\n",
    "agenda[clave] = valor\n",
    "    \n",
    "respuesta = input(\"¿Quieres incluir algún dato más? si-no: \")\n",
    "while respuesta == \"si\":\n",
    "    clave = input(\"¿Qué dato quieres incluir en la agenda? (Nombre, Teléfono, Email, etc.): \")\n",
    "    valor = input(\"Introduce el valor del dato que has seleccionado: \")\n",
    "    agenda[clave] = valor\n",
    "    respuesta = input(\"¿Quieres incluir algún dato más? si-no: \")\n",
    "    if respuesta == \"no\":\n",
    "        print(\"La agenda completa es:\")\n",
    "        print(agenda)\n"
   ]
  },
  {
   "cell_type": "code",
   "execution_count": 4,
   "id": "4e33783b",
   "metadata": {},
   "outputs": [
    {
     "name": "stdout",
     "output_type": "stream",
     "text": [
      "---Lista de compras---\n",
      "1. Agregar un producto\n",
      "2. Eliminar un producto\n",
      "3. Listar todos los productos\n",
      "4. Cerrar\n",
      "Elige una opción: 1\n",
      "Producto: cebolla\n",
      "cantidad: 2\n",
      "Elige una opción: 1\n",
      "Producto: apio\n",
      "cantidad: 3\n",
      "Elige una opción: 1\n",
      "Producto: zanahoria\n",
      "cantidad: 3\n",
      "Elige una opción: 2\n",
      "Eliminar producto: apio\n",
      "Elige una opción: 1\n",
      "Producto: limones\n",
      "cantidad: 20\n",
      "Elige una opción: 3\n",
      "cebolla - 2\n",
      "zanahoria - 3\n",
      "limones - 20\n",
      "Elige una opción: 1\n",
      "Producto: zapallo\n",
      "cantidad: 2\n",
      "Elige una opción: 4\n",
      "Gracias\n"
     ]
    }
   ],
   "source": [
    "print(\"---Lista de compras---\")\n",
    "print(\"1. Agregar un producto\")\n",
    "print(\"2. Eliminar un producto\")\n",
    "print(\"3. Listar todos los productos\")\n",
    "print(\"4. Cerrar\")\n",
    "\n",
    "diccionario = {}\n",
    "\n",
    "while True:\n",
    "    opcion = int(input(\"Elige una opción: \"))\n",
    "    \n",
    "    if opcion == 1:\n",
    "        producto = input(\"Producto: \")\n",
    "        cantidad = int(input(\"cantidad: \"))\n",
    "        diccionario[producto] = cantidad\n",
    "        \n",
    "    elif opcion == 2:\n",
    "        eliminar = input(\"Eliminar producto: \")\n",
    "        diccionario.pop(eliminar)\n",
    "        \n",
    "    elif opcion == 3:\n",
    "        for producto, cantidad in diccionario.items():\n",
    "            print(producto, \"-\", cantidad)\n",
    "            \n",
    "    elif opcion == 4:\n",
    "        print (\"Gracias\")\n",
    "        break\n",
    "    else:\n",
    "        print(\"Opción inválida\")\n"
   ]
  },
  {
   "cell_type": "code",
   "execution_count": 6,
   "id": "018cd585",
   "metadata": {},
   "outputs": [
    {
     "name": "stdout",
     "output_type": "stream",
     "text": [
      "Ingrese el nombre de un artículo y su cantidad (separados por una coma): papa,3\n",
      "¿Desea agregar otro artículo? (sí/no): si\n",
      "Ingrese el nombre de un artículo y su cantidad (separados por una coma): cebolla,5\n",
      "¿Desea agregar otro artículo? (sí/no): si\n",
      "Ingrese el nombre de un artículo y su cantidad (separados por una coma): agua,3\n",
      "¿Desea agregar otro artículo? (sí/no): no\n",
      "Lista de compras:\n",
      "- 3 papa\n",
      "- 5 cebolla\n",
      "- 3 agua\n"
     ]
    }
   ],
   "source": [
    "# Definir un diccionario vacío\n",
    "lista_compras = {}\n",
    "\n",
    "# Pedir al usuario que ingrese artículos y cantidades\n",
    "while True:\n",
    "    articulo = input(\"Ingrese el nombre de un artículo y su cantidad (separados por una coma): \")\n",
    "    nombre, cantidad = articulo.split(\",\")\n",
    "    lista_compras[nombre.strip()] = int(cantidad.strip())\n",
    "    \n",
    "    # Preguntar si el usuario desea agregar otro artículo\n",
    "    respuesta = input(\"¿Desea agregar otro artículo? (sí/no): \")\n",
    "    if respuesta.lower() == \"no\":\n",
    "        break\n",
    "\n",
    "# Imprimir la lista de compras\n",
    "print(\"Lista de compras:\")\n",
    "for nombre, cantidad in lista_compras.items():\n",
    "    print(f\"- {cantidad} {nombre}\")\n"
   ]
  },
  {
   "cell_type": "code",
   "execution_count": null,
   "id": "e849f984",
   "metadata": {},
   "outputs": [],
   "source": [
    "texto = \"     Hola, ¿cómo estás?     \"\n",
    "resultado = texto.strip()\n",
    "print(resultado)  # \"Hola, ¿cómo estás?\"   elimina espacios en blanco\n"
   ]
  },
  {
   "cell_type": "code",
   "execution_count": 8,
   "id": "534bff3d",
   "metadata": {},
   "outputs": [
    {
     "name": "stdout",
     "output_type": "stream",
     "text": [
      "Imprime el elemento:  1\n",
      "Imprime el elemento:  2\n",
      "Imprime el elemento:  3\n",
      "Imprime el elemento:  1\n",
      "Imprime el elemento:  2\n",
      "Imprime el elemento:  3\n"
     ]
    }
   ],
   "source": [
    "lista = [\"1\",\"2\",\"3\"]\n",
    " \n",
    "for i in lista:\n",
    "    print(\"Imprime el elemento: \", i)\n",
    "    \n",
    "for j in range(len(lista)): \n",
    "    print(\"Imprime el elemento: \", lista[j])"
   ]
  },
  {
   "cell_type": "code",
   "execution_count": null,
   "id": "69130dcd",
   "metadata": {},
   "outputs": [],
   "source": []
  }
 ],
 "metadata": {
  "kernelspec": {
   "display_name": "Python 3 (ipykernel)",
   "language": "python",
   "name": "python3"
  },
  "language_info": {
   "codemirror_mode": {
    "name": "ipython",
    "version": 3
   },
   "file_extension": ".py",
   "mimetype": "text/x-python",
   "name": "python",
   "nbconvert_exporter": "python",
   "pygments_lexer": "ipython3",
   "version": "3.9.13"
  }
 },
 "nbformat": 4,
 "nbformat_minor": 5
}
