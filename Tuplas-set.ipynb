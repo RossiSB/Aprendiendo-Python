{
 "cells": [
  {
   "cell_type": "markdown",
   "id": "f75ad9b1",
   "metadata": {},
   "source": [
    "# Tuplas\n",
    "Las tuplas son un tipo de datos que contienen conjuntos de elementos, igual que las listas,\n",
    "pero con la diferencia de que estas son inmutables, es decir, que una vez que se crean sus\n",
    "valores no se pueden modificar."
   ]
  },
  {
   "cell_type": "code",
   "execution_count": null,
   "id": "a95c4b65",
   "metadata": {},
   "outputs": [],
   "source": [
    "Crea una tupla con los meses del año, pide números al usuario,\n",
    "si el numero esta entre 1 y la longitud máxima de la tupla, \n",
    "muestra el contenido de esa posición sino muestra un mensaje de error.\n",
    "El programa termina cuando el usuario introduce un cero"
   ]
  },
  {
   "cell_type": "code",
   "execution_count": null,
   "id": "12d1cc26",
   "metadata": {},
   "outputs": [],
   "source": [
    "meses = {\n",
    "    1: 'enero',\n",
    "    2: 'febrero',\n",
    "    3: 'marzo',\n",
    "    4: 'abril',\n",
    "    5: 'mayo',\n",
    "    6: 'junio',\n",
    "    7: 'julio',\n",
    "    8: 'agosto',\n",
    "    9: 'septiembre',\n",
    "    10: 'octubre',\n",
    "    11: 'noviembre',\n",
    "    12: 'diciembre'\n",
    "}\n",
    "\n",
    "num = int(input(\"Introduce un número entre 1 y 12: \"))\n",
    "\n",
    "while num != 0:\n",
    "    if num in meses:\n",
    "        print(\"El mes correspondiente es:\", meses[num])\n",
    "    else:\n",
    "        print(\"Error: el número introducido está fuera del rango válido.\")\n",
    "    num = int(input(\"Introduce otro número entre 1 y 12 (0 para salir): \"))\n",
    "\n",
    "print(\"Programa terminado.\")\n"
   ]
  },
  {
   "cell_type": "code",
   "execution_count": null,
   "id": "53079480",
   "metadata": {},
   "outputs": [],
   "source": [
    "\n",
    "meses = ('Enero', 'Febrero', 'Marzo', 'Abril', 'Mayo', 'Junio', 'Julio', 'Agosto', 'Septiembre', 'Octubre', 'Noviembre', 'Diciembre')\n",
    "pocision = int(input(\"Introduce un número entre 1 y 12: \"))\n",
    "print(\"El número introducido corrresponde a: \" ,meses[pocision-1])\n",
    "\n"
   ]
  },
  {
   "cell_type": "code",
   "execution_count": null,
   "id": "7ccf55a6",
   "metadata": {},
   "outputs": [],
   "source": [
    " Crea una tupla con números, algunos de los cuales repetidos, \n",
    "    pide un numero por teclado e indica cuantas veces se repite."
   ]
  },
  {
   "cell_type": "code",
   "execution_count": null,
   "id": "8c240cb9",
   "metadata": {},
   "outputs": [],
   "source": [
    "numeros= (1,5,6,1,8,5)\n",
    "num =int(input(\"Ingresa un número entre 1 y 8\"))\n",
    "print(num, \"se repite\",numeros.count(num))"
   ]
  },
  {
   "cell_type": "code",
   "execution_count": null,
   "id": "bf2adb22",
   "metadata": {},
   "outputs": [],
   "source": [
    "numeros = (5, 6, 4, 8, 19, 0, 4, 6, 6, 5, 4, 8, 3, 5, 6, 0)\n",
    "num = int(input(\"Ingresa un número entre 0 y 19: \"))\n",
    "print(num, \"se repite\",numeros.count(num))"
   ]
  },
  {
   "cell_type": "code",
   "execution_count": null,
   "id": "8b8e897a",
   "metadata": {},
   "outputs": [],
   "source": [
    "numeros = (5, 6, 4, 8, 19, 0, 4, 6, 6, 5, 4, 8, 3, 5, 6, 0)\n",
    "print(\"El número máximo es: \",max(numeros))\n",
    "print(\"El número mínimo es: \",min(numeros))"
   ]
  },
  {
   "cell_type": "code",
   "execution_count": null,
   "id": "c2a724b7",
   "metadata": {},
   "outputs": [],
   "source": [
    "maximo = numero[0]\n",
    "minimo = numero[0]\n",
    "numeros = (5, 6, 4, 8, 19, 0, 4, 6, 6, 5, 4, 8, 3, 5, 6, 0)\n",
    " \n",
    "for n in range(len(numeros)):\n",
    "    if numeros[n] > maximo:\n",
    "        maximo = numeros[n]\n",
    "    if numeros[n] < minimo:\n",
    "        minimo = numeros[n]\n",
    "        \n",
    "print(f\"El valor máximo de la tupla es {maximo} y el valor mínimo {minimo}\")"
   ]
  },
  {
   "cell_type": "markdown",
   "id": "22ccd161",
   "metadata": {},
   "source": [
    "# CONJUNTOS O SETS\n",
    "Los sets o conjuntos son colecciones de elementos no ordenados y únicos, es decir, en los\n",
    "conjuntos no hay elementos repetidos.\n",
    "Al igual que en las listas y las tuplas, los elementos de un conjunto pueden ser del mismo tipo\n",
    "o no."
   ]
  },
  {
   "cell_type": "code",
   "execution_count": 5,
   "id": "9b4a4f9d",
   "metadata": {},
   "outputs": [
    {
     "name": "stdout",
     "output_type": "stream",
     "text": [
      "{1, 4, 5, 6, 7, 8, 9}\n"
     ]
    }
   ],
   "source": [
    "numeros = {1, 5, 4, 5, 6, 7, 8, 8, 9, 1, 4}\n",
    "\n",
    "print(numeros)"
   ]
  },
  {
   "cell_type": "code",
   "execution_count": 3,
   "id": "418a4493",
   "metadata": {},
   "outputs": [
    {
     "name": "stdout",
     "output_type": "stream",
     "text": [
      "{'n', 'E', 'c', 'e', 'u', 's', 'o', ' ', 'm', 'y', 't'}\n"
     ]
    }
   ],
   "source": [
    "frase = \"Estoy muy contento\"\n",
    "print(set(frase))"
   ]
  },
  {
   "cell_type": "code",
   "execution_count": 4,
   "id": "facad24e",
   "metadata": {},
   "outputs": [
    {
     "name": "stdout",
     "output_type": "stream",
     "text": [
      "1\n",
      "2\n",
      "3\n",
      "9\n"
     ]
    }
   ],
   "source": [
    "numeros = {1, 3, 9, 3, 1, 2}\n",
    "for n in numeros:\n",
    "    print(n)"
   ]
  },
  {
   "cell_type": "code",
   "execution_count": null,
   "id": "a965811e",
   "metadata": {},
   "outputs": [],
   "source": [
    "numeros = {1, 3, 9, 3, 1, 2}\n",
    "\n",
    "numeros.add(6)\n",
    "\n",
    "numeros.add(3)\n",
    "\n",
    "numeros.remove(1)\n",
    "\n",
    "print(numeros)"
   ]
  },
  {
   "cell_type": "code",
   "execution_count": null,
   "id": "d19216c8",
   "metadata": {},
   "outputs": [],
   "source": [
    "mezcla = {\"azul\", \"verde\", 1, 6, \"rojo\", 3, 3, \"verde\", \"azul\", 1, \"blanco\"}\n",
    "num =int(input(\"Ingresa un numero: \"))\n",
    "mezcla.add(\"negro\")\n",
    "mezcla.add(num)\n",
    "mezcla.remove(3)\n",
    "print(mezcla)"
   ]
  },
  {
   "cell_type": "code",
   "execution_count": 1,
   "id": "7e68a2d5",
   "metadata": {},
   "outputs": [
    {
     "name": "stdout",
     "output_type": "stream",
     "text": [
      "el nuevo conjunto es: {1, 4, 'verde', 6, 'rojo', 8, 'azul'}\n"
     ]
    }
   ],
   "source": [
    "numeros = {1, 4, 4, 8, 1, 6}\n",
    "colores = {\"verde\", \"rojo\", \"azul\", \"verde\"}\n",
    "fusion= numeros.union(colores)\n",
    "print (f\"el nuevo conjunto es: {fusion}\")"
   ]
  },
  {
   "cell_type": "code",
   "execution_count": 1,
   "id": "86222a2c",
   "metadata": {},
   "outputs": [
    {
     "name": "stdout",
     "output_type": "stream",
     "text": [
      "{1, 4, 6, 8, 'blanco', 'azul', 'verde', 'rojo'}\n"
     ]
    }
   ],
   "source": [
    "numeros = {1, 4, 4, 8, 1, 6}\n",
    "\n",
    "colores = {\"verde\", \"rojo\", \"azul\", \"verde\", \"blanco\"}\n",
    "\n",
    "colores.update(numeros)\n",
    "\n",
    "print(colores)"
   ]
  },
  {
   "cell_type": "code",
   "execution_count": 2,
   "id": "32808abc",
   "metadata": {
    "scrolled": true
   },
   "outputs": [
    {
     "name": "stdout",
     "output_type": "stream",
     "text": [
      "El color verde si se encuentra en el conjunto mezcla\n"
     ]
    }
   ],
   "source": [
    "mezcla = {1, \"blanco\", 4, \"verde\", 6, 8, \"rojo\", \"azul\", 4, 1, \"verde\"}\n",
    "for m in mezcla:\n",
    "    if m ==\"verde\":\n",
    "        print(f\"El color {m} si se encuentra en el conjunto mezcla\") "
   ]
  },
  {
   "cell_type": "code",
   "execution_count": null,
   "id": "ab6daf66",
   "metadata": {},
   "outputs": [],
   "source": []
  }
 ],
 "metadata": {
  "kernelspec": {
   "display_name": "Python 3 (ipykernel)",
   "language": "python",
   "name": "python3"
  },
  "language_info": {
   "codemirror_mode": {
    "name": "ipython",
    "version": 3
   },
   "file_extension": ".py",
   "mimetype": "text/x-python",
   "name": "python",
   "nbconvert_exporter": "python",
   "pygments_lexer": "ipython3",
   "version": "3.9.13"
  }
 },
 "nbformat": 4,
 "nbformat_minor": 5
}
