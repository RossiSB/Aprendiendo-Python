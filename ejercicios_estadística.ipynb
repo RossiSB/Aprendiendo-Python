{
 "cells": [
  {
   "cell_type": "markdown",
   "id": "3643ae9a",
   "metadata": {},
   "source": [
    "# Estadística Básica"
   ]
  },
  {
   "cell_type": "markdown",
   "id": "90fa97a2",
   "metadata": {},
   "source": [
    "**3.4.1**"
   ]
  },
  {
   "cell_type": "code",
   "execution_count": 5,
   "id": "10649854",
   "metadata": {},
   "outputs": [
    {
     "name": "stdout",
     "output_type": "stream",
     "text": [
      "[5 3 6 5 4 5 7 8 6 5 6 8 3 4 5 4 8 5 5 4]\n"
     ]
    }
   ],
   "source": [
    "import numpy as np\n",
    "datos = np.array([5, 3, 6, 5, 4, 5, 7, 8, 6, 5, 6, 8, 3, 4, 5, 4, 8, 5, 5, 4])\n",
    "print (datos)"
   ]
  },
  {
   "cell_type": "code",
   "execution_count": 4,
   "id": "98295ecc",
   "metadata": {},
   "outputs": [
    {
     "name": "stdout",
     "output_type": "stream",
     "text": [
      "El promedio es : 5.3\n",
      "La mediana es : 5.0\n",
      "El Q1 es : 4.0\n",
      "El Q2 es : 5.0\n",
      "El Q3 es : 6.0\n",
      "El Percentil 30 es : 4.7\n",
      "El Percentil 80 es : 6.2\n",
      "La varianza es : 2.21\n",
      "La desviación típica es : 1.49\n",
      "El rango intercuartílico es : 2.0\n"
     ]
    }
   ],
   "source": [
    "print(f\"El promedio es : {np.mean(datos):.1f}\") \n",
    "print(f\"La mediana es : {np.median(datos):.1f}\") \n",
    "q1 = np.quantile(datos,0.25)\n",
    "q3 = np.quantile(datos,0.75)\n",
    "\n",
    "print(f\"El Q1 es : {q1}\") \n",
    "print(f\"El Q2 es : {np.quantile(datos,0.5)}\") \n",
    "print(f\"El Q3 es : {q3}\") \n",
    "print(f\"El Percentil 30 es : {np.percentile(datos,30)}\") \n",
    "print(f\"El Percentil 80 es : {np.percentile(datos,80):.1f}\") \n",
    "print(f\"La varianza es : {np.var(datos)}\") \n",
    "print(f\"La desviación típica es : {np.std(datos):.2f}\") \n",
    "rango = q3 - q1\n",
    "print(f\"El rango intercuartílico es : {rango}\") "
   ]
  },
  {
   "cell_type": "markdown",
   "id": "09c1ba79",
   "metadata": {},
   "source": [
    "**3.4.2**"
   ]
  },
  {
   "cell_type": "code",
   "execution_count": null,
   "id": "a3a41553",
   "metadata": {},
   "outputs": [],
   "source": [
    "\n",
    "import pandas as pd \n",
    "\n",
    "import seaborn\n",
    "\n",
    "datos = {\"D_ejer1\":[5, 3, 6, 5], \"D_ejer2\":[4, 5, 7, 8]}\n",
    "df= pd.DataFrame(datos)\n",
    "df"
   ]
  },
  {
   "cell_type": "code",
   "execution_count": null,
   "id": "3c20bce6",
   "metadata": {},
   "outputs": [],
   "source": [
    "#Calcula los siguientes estadísticos:\n",
    "#a) La media\n",
    "print(df.mean())\n"
   ]
  },
  {
   "cell_type": "code",
   "execution_count": null,
   "id": "71e11146",
   "metadata": {},
   "outputs": [],
   "source": [
    "#b) La mediana\n",
    "print(df.median())"
   ]
  },
  {
   "cell_type": "code",
   "execution_count": null,
   "id": "301f6b52",
   "metadata": {},
   "outputs": [],
   "source": [
    "#c) Los cuartiles Q2 y Q3\n",
    "print(df.quantile([0.5,0.75]))"
   ]
  },
  {
   "cell_type": "code",
   "execution_count": null,
   "id": "46de669a",
   "metadata": {},
   "outputs": [],
   "source": [
    "#d) Los percentiles P40 y P90\n",
    "print(df.quantile([0.4,0.9]))"
   ]
  },
  {
   "cell_type": "code",
   "execution_count": null,
   "id": "8acb3263",
   "metadata": {},
   "outputs": [],
   "source": [
    "#e) La desviación típica\n",
    "print(df.std())"
   ]
  },
  {
   "cell_type": "code",
   "execution_count": null,
   "id": "ba5da235",
   "metadata": {},
   "outputs": [],
   "source": [
    "\n",
    "#f) La varianza\n",
    "print(df.var())"
   ]
  },
  {
   "cell_type": "code",
   "execution_count": null,
   "id": "4d49f872",
   "metadata": {},
   "outputs": [],
   "source": [
    "#g) La covarianzaprint(df.cov())"
   ]
  },
  {
   "cell_type": "code",
   "execution_count": null,
   "id": "919717e6",
   "metadata": {},
   "outputs": [],
   "source": [
    "#h) La correlación de Pearson"
   ]
  },
  {
   "cell_type": "code",
   "execution_count": null,
   "id": "dd8905b1",
   "metadata": {},
   "outputs": [],
   "source": [
    "pearson = df.corr(method=\"pearson\")\n",
    "print(pearson)\n"
   ]
  },
  {
   "cell_type": "code",
   "execution_count": null,
   "id": "e4c4bba0",
   "metadata": {},
   "outputs": [],
   "source": [
    "#i) La matriz de correlación de Pearson\n",
    "seaborn.heatmap(pearson, annot= True, cmap = 'coolwarm')"
   ]
  },
  {
   "cell_type": "markdown",
   "id": "a6db1155",
   "metadata": {},
   "source": [
    "**3.4.3 ¿Cuál es la mediana de un array que contiene los valores entre el 25 y el 45?**"
   ]
  },
  {
   "cell_type": "code",
   "execution_count": null,
   "id": "e4e5602f",
   "metadata": {},
   "outputs": [],
   "source": [
    "import numpy as np\n",
    "a = np.arange(25,46)\n",
    "\n",
    "print(a)\n",
    "print(np.median(a))"
   ]
  },
  {
   "cell_type": "markdown",
   "id": "97bae185",
   "metadata": {},
   "source": [
    "**3.4.4 Después de realizar una encuesta a diferentes personas sobre el número de hijos que tenían, se obtienen como respuestas las siguientes: hay 5 personas que no tienen hijos, 6 personas que tienen 1 hijo, 8 personas que tienen 2 hijos, 4 personas que tienen 3 hijos y 2 personas que tienen 4 hijos. ¿Cuál es la media de hijos que tienen, en total, todas las personas entrevistadas? ¿Y la varianza?**"
   ]
  },
  {
   "cell_type": "code",
   "execution_count": null,
   "id": "3471cc03",
   "metadata": {},
   "outputs": [],
   "source": [
    "import numpy as np\n",
    "datos = np.array([0]*5+[1]*6+[2]*8+[3]*4+[4]*2)\n",
    "media = np.mean(datos)\n",
    "varianza= np.var(datos)\n",
    "\n",
    "print(datos)\n",
    "print(\"La media es : \", media)\n",
    "print (\"La varianza es : \", round(varianza,3))"
   ]
  },
  {
   "cell_type": "markdown",
   "id": "3024610a",
   "metadata": {},
   "source": [
    "**3.4.5  Teniendo en cuenta que se han medido los diferentes tipos de impuestos que se retienen en diferentes países y que se han obtenido los siguientes datos: 0.16, 0.2, 0.06, 0.06, 0.07, 0.17, 0.06, 0.22. ¿Cuáles son los tres cuartiles de estos datos?**"
   ]
  },
  {
   "cell_type": "code",
   "execution_count": null,
   "id": "ca4d555c",
   "metadata": {},
   "outputs": [],
   "source": [
    "import numpy as np\n",
    "datos_impuestos = np.array([0.16, 0.2, 0.06, 0.06, 0.07, 0.17, 0.06, 0.22])\n",
    "\n",
    "print(datos_impuestos)\n",
    "Q1 = np.quantile(datos,0.25)\n",
    "Q2 = np.quantile(datos,0.50)\n",
    "Q3 = np.quantile(datos,0.75)\n",
    "\n",
    "print(\"Los 3 cuartiles son: \", Q1)\n"
   ]
  },
  {
   "cell_type": "code",
   "execution_count": null,
   "id": "07817162",
   "metadata": {},
   "outputs": [],
   "source": [
    "import pandas as pd\n",
    "impuestos ={\"tax\":[0.16, 0.2, 0.06, 0.06, 0.07, 0.17, 0.06, 0.22]}\n",
    "df_impuestos = pd.DataFrame(impuestos)\n",
    "print(df_impuestos)\n",
    "\n",
    "print(df_impuestos.quantile([0.25,0.5,0.75]))"
   ]
  },
  {
   "cell_type": "markdown",
   "id": "8c94bac8",
   "metadata": {},
   "source": [
    "**3.4.6 Dada la siguiente matriz de datos:\n",
    "\n",
    "4  5  5  1  7  4\n",
    "\n",
    "3  2  4  4  3  6\n",
    "\n",
    "6  4  3  3  4  5\n",
    "\n",
    "5  2  4  7  3  6\n",
    "\n",
    "2  1  3  7  3  1**"
   ]
  },
  {
   "cell_type": "code",
   "execution_count": null,
   "id": "1b98de54",
   "metadata": {},
   "outputs": [],
   "source": [
    "import pandas as pd\n",
    "M =   {\"c1\":[4,3,6,5,2],\n",
    "       \"c2\":[5,2,4,2,1],\n",
    "       \"c3\":[5,4,3,4,3],\n",
    "       \"c4\":[1,4,3,7,7],\n",
    "       \"c5\":[7,3,4,3,3],\n",
    "       \"c6\":[4,6,5,6,1]\n",
    "           }\n",
    "\n",
    "df_matriz= pd.DataFrame(M)\n",
    "\n",
    "print(df_matriz.values)\n",
    "\n"
   ]
  },
  {
   "cell_type": "code",
   "execution_count": null,
   "id": "34665b48",
   "metadata": {},
   "outputs": [],
   "source": [
    "pearson1 = df_matriz.corr(method=\"pearson\")\n",
    "seaborn.heatmap(pearson1, annot= True, cmap = 'coolwarm')\n",
    "\n"
   ]
  },
  {
   "cell_type": "markdown",
   "id": "bd3b7395",
   "metadata": {},
   "source": [
    "**3.4.7**"
   ]
  },
  {
   "cell_type": "code",
   "execution_count": 2,
   "id": "7425793f",
   "metadata": {},
   "outputs": [
    {
     "name": "stdout",
     "output_type": "stream",
     "text": [
      "  Articulos  Pedidos Entregado  Facturación\n",
      "0   Art0001      325         S         8125\n",
      "1   Art0002      125         S         9375\n",
      "2   Art0003      205         N        13325\n",
      "3   Art0004       54         N        18900\n",
      "4   Art0005      186         S         9300\n",
      "La media de facturación es:  11805.0\n",
      "La varianza de los pedidos es:  10145.5\n",
      "La covarianza entre los pedidos y la facturación es: -317737.5\n",
      "La media de la facturación y los pedidos entregados es:\n",
      "            Pedidos   Facturación\n",
      "Entregado                       \n",
      "N            129.5  16112.500000\n",
      "S            212.0   8933.333333\n"
     ]
    }
   ],
   "source": [
    "import pandas as pd\n",
    "data =   {\"Articulos\":[\"Art0001\",\"Art0002\",\"Art0003\",\"Art0004\",\"Art0005\"],\n",
    "       \"Pedidos\":[325,125,205,54,186],\n",
    "       \"Entregado\":[\"S\",\"S\",\"N\",\"N\",\"S\"],\n",
    "       \"Facturación\":[8125,9375,13325,18900,9300]    \n",
    "           }\n",
    "\n",
    "df_data= pd.DataFrame(data)\n",
    "\n",
    "print(df_data)\n",
    "\n",
    "print(\"La media de facturación es: \", df_data[\"Facturación\"].mean())\n",
    "var_p = df_data[\"Pedidos\"].var()\n",
    "print(\"La varianza de los pedidos es: \", var_p)\n",
    "covar = df_data[\"Pedidos\"].cov(df_data[\"Facturación\"])\n",
    "print(\"La covarianza entre los pedidos y la facturación es:\", covar)\n",
    "media_entregado = df_data.groupby(\"Entregado\").mean()\n",
    "print(\"La media de la facturación y los pedidos entregados es:\\n\", media_entregado)\n",
    "\n",
    "\n",
    "\n"
   ]
  },
  {
   "cell_type": "markdown",
   "id": "5bad0c10",
   "metadata": {},
   "source": []
  },
  {
   "cell_type": "code",
   "execution_count": null,
   "id": "f2f73e3a",
   "metadata": {},
   "outputs": [],
   "source": []
  },
  {
   "cell_type": "code",
   "execution_count": null,
   "id": "d35b61e5",
   "metadata": {},
   "outputs": [],
   "source": []
  },
  {
   "cell_type": "markdown",
   "id": "4fcd2ff4",
   "metadata": {},
   "source": []
  },
  {
   "cell_type": "code",
   "execution_count": null,
   "id": "84a60041",
   "metadata": {},
   "outputs": [],
   "source": []
  }
 ],
 "metadata": {
  "kernelspec": {
   "display_name": "Python 3 (ipykernel)",
   "language": "python",
   "name": "python3"
  },
  "language_info": {
   "codemirror_mode": {
    "name": "ipython",
    "version": 3
   },
   "file_extension": ".py",
   "mimetype": "text/x-python",
   "name": "python",
   "nbconvert_exporter": "python",
   "pygments_lexer": "ipython3",
   "version": "3.9.13"
  }
 },
 "nbformat": 4,
 "nbformat_minor": 5
}
