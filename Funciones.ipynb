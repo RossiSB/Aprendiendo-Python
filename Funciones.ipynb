{
 "cells": [
  {
   "cell_type": "markdown",
   "id": "0e6b6ada",
   "metadata": {},
   "source": [
    "# Funciones\n",
    "Las funciones son bloques de código reutilizables que se ejecutan dentro de un programa\n",
    "cuando se les llama. La forma en la que se define una función es la siguiente:\n",
    "def nombre de la función ():\n",
    "código a ejecutar\n",
    "Esto quiere decir que nuestras funciones tendrán un nombre y cuando en un programa las\n",
    "llamemos por ese nombre, se ejecutará el código de esas funciones sin necesidad de\n",
    "escribirlo de nuevo.\n"
   ]
  },
  {
   "cell_type": "code",
   "execution_count": null,
   "id": "ada9e774",
   "metadata": {},
   "outputs": [],
   "source": [
    "#palabra clave def \n"
   ]
  },
  {
   "cell_type": "code",
   "execution_count": 1,
   "id": "3338d627",
   "metadata": {},
   "outputs": [
    {
     "name": "stdout",
     "output_type": "stream",
     "text": [
      "hola\n"
     ]
    }
   ],
   "source": [
    "def saludar():\n",
    "    print (\"hola\")\n",
    "saludar()"
   ]
  },
  {
   "cell_type": "code",
   "execution_count": 2,
   "id": "f394bf28",
   "metadata": {},
   "outputs": [
    {
     "name": "stdout",
     "output_type": "stream",
     "text": [
      "10\n"
     ]
    }
   ],
   "source": [
    "def multi(a,b):\n",
    "    print(a*b)\n",
    "multi(2,5)"
   ]
  },
  {
   "cell_type": "code",
   "execution_count": null,
   "id": "e98344fd",
   "metadata": {},
   "outputs": [],
   "source": [
    "Solicitar al usuario que ingrese su dirección email. \n",
    "Imprimir un mensaje indicando si la dirección es válida o no,   \n",
    "valiéndose de una función para decidirlo. Una dirección de email \n",
    "se considerará válida si contiene el símbolo \"@\" y además incorpora\n",
    "un punto para separarlo del dominio."
   ]
  },
  {
   "cell_type": "code",
   "execution_count": null,
   "id": "6a367f08",
   "metadata": {},
   "outputs": [],
   "source": [
    "mail = input(\"Ingresa tu e-mail\")\n",
    "def email (*\"@\")\n"
   ]
  },
  {
   "cell_type": "code",
   "execution_count": null,
   "id": "3e36c858",
   "metadata": {},
   "outputs": [],
   "source": [
    "def validar(email=\"\"):\n",
    "    caracterBuscado=\"@\"\n",
    "    emailValido=False\n",
    "    for c in email:\n",
    "        if c==caracterBuscado:\n",
    "            return True\n",
    "    return False\n",
    "\n",
    " \n",
    "direccion=input(\"Tu email: \")\n",
    "if validar(direccion):\n",
    "    print(\"Dirección válida\")\n",
    "else:\n",
    "    print(\"Dirección inválida\")"
   ]
  },
  {
   "cell_type": "code",
   "execution_count": null,
   "id": "9319cd32",
   "metadata": {},
   "outputs": [],
   "source": [
    " Calcula definiendo una función, el factorial de un número entero introducido. \n",
    "# El resultado debe imprimirse por pantalla\n"
   ]
  },
  {
   "cell_type": "code",
   "execution_count": null,
   "id": "6fade863",
   "metadata": {},
   "outputs": [],
   "source": [
    "def factorial(numero):\n",
    "   f=1\n",
    "   if numero!=0:\n",
    "       for i in range(2,numero+1):\n",
    "           f=f*i\n",
    "   return f\n",
    "\n",
    " \n",
    "cantidad=0\n",
    "num=int(input(\"Número (-1 para cortar): \"))\n",
    "while num!=-1:\n",
    "    print(\"Factorial:\", factorial(num))\n",
    "    cantidad+=1\n",
    "    num=int(input(\"Número (-1 para cortar): \"))\n",
    "print(\"Se leyeron\",cantidad,\"números\")"
   ]
  },
  {
   "cell_type": "code",
   "execution_count": null,
   "id": "250c27ac",
   "metadata": {},
   "outputs": [],
   "source": [
    "Reescribe el programa anterior \n",
    "para que se calcule el factorial desde 2 \n",
    "hasta el número entero introducido por el usuario"
   ]
  },
  {
   "cell_type": "code",
   "execution_count": null,
   "id": "c66827f0",
   "metadata": {},
   "outputs": [],
   "source": [
    "def factorial(num):\n",
    "  cont= num\n",
    "  i=1\n",
    "  while i < num:\n",
    "    cont= cont * (num-i)\n",
    "    i += 1\n",
    "  print(f\"El factorial de {num} es: {cont}\")\n",
    " \n",
    "num= int(input(\"Introduce un número:\"))\n",
    " \n",
    "for i in range(2,num+1):\n",
    "  factorial(i)"
   ]
  },
  {
   "cell_type": "code",
   "execution_count": null,
   "id": "df7050e5",
   "metadata": {},
   "outputs": [],
   "source": [
    "def escribir():\n",
    "    print (\"Estoy en la escuela de talento digital\")\n",
    "escribir()# llamada a la función\n"
   ]
  },
  {
   "cell_type": "code",
   "execution_count": null,
   "id": "25582458",
   "metadata": {},
   "outputs": [],
   "source": [
    "def f(name):\n",
    "    print(\"Hola,\", name)\n",
    "nombres=str(input(\"Ingresa un nombre: \"))  \n",
    "    \n",
    "f(nombres)\n"
   ]
  },
  {
   "cell_type": "code",
   "execution_count": null,
   "id": "4bd51e90",
   "metadata": {},
   "outputs": [],
   "source": [
    "1.Crea una función a la que le pases como parámetro un nombre \n",
    "e imprima por pantalla “nombre está en la Escuela de Talento Digital”."
   ]
  },
  {
   "cell_type": "code",
   "execution_count": null,
   "id": "c80a639c",
   "metadata": {
    "scrolled": false
   },
   "outputs": [],
   "source": [
    "def f(name):\n",
    "     print (name,\"está en la escuela de talento digital\")  #Lo que está dentro de la funcion se imprima asi  \n",
    "nombres=input(\"Ingresa un nombre: \")   #nombre  solicitado\n",
    "f(nombres) #llamar a la función indicándole la variable \n",
    "    "
   ]
  },
  {
   "cell_type": "code",
   "execution_count": null,
   "id": "fccd5c32",
   "metadata": {},
   "outputs": [],
   "source": [
    "Crea una función a la que le pases como parámetro\n",
    "una cifra e imprima en pantalla el valor de esa \n",
    "cifra multiplicado por tres."
   ]
  },
  {
   "cell_type": "code",
   "execution_count": null,
   "id": "ba5b6412",
   "metadata": {},
   "outputs": [],
   "source": [
    "def f(n):\n",
    "    print (n*3)\n",
    "f(12)"
   ]
  },
  {
   "cell_type": "code",
   "execution_count": null,
   "id": "f8951d6c",
   "metadata": {},
   "outputs": [],
   "source": [
    "def f(n):\n",
    "    for i in range(0,11):\n",
    "        multi=(i*n)\n",
    "        print (multi)\n",
    "    \n",
    "f(3)"
   ]
  },
  {
   "cell_type": "code",
   "execution_count": null,
   "id": "f320c171",
   "metadata": {},
   "outputs": [],
   "source": [
    "Crea una función a la que le pases dos números e imprima por pantalla la suma de ambos."
   ]
  },
  {
   "cell_type": "code",
   "execution_count": null,
   "id": "2ac9a554",
   "metadata": {},
   "outputs": [],
   "source": [
    "def f(n1,n2):\n",
    "    sum =n1+n2\n",
    "    print (sum)\n",
    "f(3,9)\n",
    "f(54,6)"
   ]
  },
  {
   "cell_type": "code",
   "execution_count": null,
   "id": "a405ba00",
   "metadata": {},
   "outputs": [],
   "source": [
    "Crea una función con un parámetro que muestre por pantalla “El número es par” \n",
    "si el parámetro introducido es par y que muestre “El número es impar” si el \n",
    "parámetro es impar."
   ]
  },
  {
   "cell_type": "code",
   "execution_count": null,
   "id": "c07e342c",
   "metadata": {},
   "outputs": [],
   "source": [
    "def f(n):\n",
    "    if n % 2 == 0:\n",
    "        print (n,\"es un número par\" )\n",
    "    else:\n",
    "        print (n,\"es un número impar\")\n",
    "\n",
    "f(3)\n",
    "f(9)\n",
    "f(10)\n"
   ]
  },
  {
   "cell_type": "code",
   "execution_count": null,
   "id": "79e79ca2",
   "metadata": {},
   "outputs": [],
   "source": [
    "Crea una función que reciba un número y muestre por pantalla su factorial."
   ]
  },
  {
   "cell_type": "code",
   "execution_count": null,
   "id": "17af40e0",
   "metadata": {},
   "outputs": [],
   "source": [
    "def f(n):\n",
    "    c=1\n",
    "    for i in range(1,n+1):\n",
    "        c = i*c\n",
    "    print (c)\n",
    "        \n",
    "f(12)\n",
    "f(9)\n",
    "f(6)"
   ]
  },
  {
   "cell_type": "code",
   "execution_count": null,
   "id": "46683d32",
   "metadata": {},
   "outputs": [],
   "source": [
    "Crea una función que calcule la media de los números que pasemos como parámetros\n",
    "y la muestre por pantalla. Ten en cuenta que podemos\n",
    "pasarle dos números como podemos pasarle diez, no lo tenemos definido \n",
    "en un principio."
   ]
  },
  {
   "cell_type": "code",
   "execution_count": null,
   "id": "e5c366b3",
   "metadata": {},
   "outputs": [],
   "source": [
    "def f(n):\n",
    "    print (\"La media es:\",sum(numeros)/len(numeros))\n",
    "\n",
    "numeros =[12,5,4]\n",
    "f(numeros)\n"
   ]
  },
  {
   "cell_type": "code",
   "execution_count": null,
   "id": "c9550c79",
   "metadata": {},
   "outputs": [],
   "source": [
    "def calcular_media(*args):\n",
    "    suma = sum(args)\n",
    "    media = suma / len(args)\n",
    "    print(\"La media es:\", media)\n",
    "\n",
    "calcular_media(1,8,9,3)"
   ]
  },
  {
   "cell_type": "code",
   "execution_count": null,
   "id": "34d6d747",
   "metadata": {},
   "outputs": [],
   "source": [
    " Crea una función que dados dos números muestre por pantalla todos los números que hay entre ellos, incluidos ambos."
   ]
  },
  {
   "cell_type": "code",
   "execution_count": null,
   "id": "eccb4ecd",
   "metadata": {},
   "outputs": [],
   "source": [
    "def num(n,m):\n",
    "    for i in range(n,m+1):\n",
    "        print(i)\n",
    "num(2,6)\n",
    "    \n"
   ]
  },
  {
   "cell_type": "code",
   "execution_count": null,
   "id": "c0ee500e",
   "metadata": {},
   "outputs": [],
   "source": [
    "Crea una función que dados una serie de números identifique el máximo y el mínimo\n",
    "y muestre por pantalla “El máximo es: x”, siendo x el mayor de los números,\n",
    "y “El mínimo es: y”, siendo y el menor de los números."
   ]
  },
  {
   "cell_type": "code",
   "execution_count": null,
   "id": "a4128b6c",
   "metadata": {},
   "outputs": [],
   "source": [
    "def f(n):\n",
    "    print (\"El número máximo es :\",max(numeros),\"y el mínimo es: \",min(numeros))\n",
    "\n",
    "numeros =[1, 2 ,3 ,8]\n",
    "f(numeros)\n",
    "# al poner unalista fuera la podemos llamar reemplzazando n por esa lista "
   ]
  },
  {
   "cell_type": "code",
   "execution_count": null,
   "id": "3566fd8f",
   "metadata": {},
   "outputs": [],
   "source": [
    "Crea una función a la que se introduzca un texto como parámetro y muestre por pantalla\n",
    "el número de caracteres que tiene ese texto."
   ]
  },
  {
   "cell_type": "code",
   "execution_count": null,
   "id": "95c027f4",
   "metadata": {
    "scrolled": true
   },
   "outputs": [],
   "source": [
    "def k(m):\n",
    "    largo = len(m)\n",
    "    return(largo)\n",
    "n_frase=k(\"hola me llamo Rossi\")  \n",
    "print(f\"La frase ingresada tiene {n_frase} caracteres.\")    "
   ]
  },
  {
   "cell_type": "code",
   "execution_count": null,
   "id": "2bbf8a63",
   "metadata": {
    "scrolled": true
   },
   "outputs": [],
   "source": [
    "def convertir_a_segundos(horas, minutos, segundos):\n",
    "    total_segundos = horas*3600 + minutos*60 + segundos\n",
    "    print(f\"{horas} horas, {minutos} minutos y {segundos} segundos son {total_segundos} segundos\")\n",
    "\n",
    "def convertir_a_tiempo(segundos):\n",
    "    horas = segundos // 3600\n",
    "    segundos_restantes = segundos % 3600\n",
    "    minutos = segundos_restantes // 60\n",
    "    segundos = segundos_restantes % 60\n",
    "    print(f\"{segundos} segundos equivalen a {horas} horas, {minutos} minutos y {segundos} segundos\")\n",
    "\n",
    "opcion = input(\"Elige una opción:\\n1. Convertir a segundos\\n2. Convertir a horas, minutos y segundos\\n\")\n",
    "\n",
    "if opcion == \"1\":\n",
    "    horas = int(input(\"Introduce el número de horas: \"))\n",
    "    minutos = int(input(\"Introduce el número de minutos: \"))\n",
    "    segundos = int(input(\"Introduce el número de segundos: \"))\n",
    "    convertir_a_segundos(horas, minutos, segundos)\n",
    "elif opcion == \"2\":\n",
    "    segundos = int(input(\"Introduce el número de segundos: \"))\n",
    "    convertir_a_tiempo(segundos)\n",
    "else:\n",
    "    print(\"Opción no válida\")\n"
   ]
  },
  {
   "cell_type": "code",
   "execution_count": null,
   "id": "7c1be9cf",
   "metadata": {},
   "outputs": [],
   "source": [
    "def calcular_sm(*args):\n",
    "    suma = sum(args)\n",
    "    maximo = max(args)\n",
    "    return(suma, maximo)\n",
    "s=calcular_sm(1,5,6,8,7,-9)\n",
    "print (s)"
   ]
  },
  {
   "cell_type": "code",
   "execution_count": null,
   "id": "dfe6cd01",
   "metadata": {},
   "outputs": [],
   "source": [
    "numeros =[1, 2 ,3 ,8]\n",
    "\n",
    "def f(n):\n",
    "    global numeros\n",
    "    suma=sum (n)\n",
    "    maxi=max (n)\n",
    "    \n",
    "    return (suma,maxi)\n",
    "\n",
    "\n",
    "s=f(numeros)#la función se pone dentro de un avariable para imprimir\n",
    "print(s)  "
   ]
  },
  {
   "cell_type": "code",
   "execution_count": null,
   "id": "8b39a237",
   "metadata": {},
   "outputs": [],
   "source": [
    "#1\n",
    "def simbolo(text):\n",
    "    if \"@\" in text:\n",
    "        return \"El texto contiene la @\"\n",
    "    else:\n",
    "        return \"El texto no contiene la @\"\n",
    "\n",
    "user_input = input(\"Ingrese su texto: \")\n",
    "result = simbolo(user_input)\n",
    "print(result)\n"
   ]
  },
  {
   "cell_type": "code",
   "execution_count": null,
   "id": "d028e0c1",
   "metadata": {},
   "outputs": [],
   "source": [
    "#2\n",
    "def calcular_total(importe, impuestos):\n",
    "   \n",
    "    total = importe + (importe * impuestos / 100)\n",
    "    return total\n",
    "\n",
    "\n",
    "cantidad = float(input(\"Introduce la cantidad: \"))\n",
    "porcentaje_impuestos = float(input(\"Introduce el porcentaje de impuestos a pagar: \"))\n",
    "\n",
    "# Calculamos el importe total llamando a la función \n",
    "importe_total = calcular_total(cantidad, porcentaje_impuestos)\n",
    "\n",
    "# Mostramos el importe total por pantalla\n",
    "print(\"El importe total a pagar es:\", importe_total)\n"
   ]
  },
  {
   "cell_type": "code",
   "execution_count": null,
   "id": "8665fc1f",
   "metadata": {},
   "outputs": [],
   "source": [
    "#3\n",
    "def sumar_numeros():\n",
    "    numeros = []\n",
    "    while True:\n",
    "        num = int(input(\"Ingrese un número (0 para finalizar): \"))\n",
    "        if num == 0:\n",
    "            break\n",
    "        numeros.append(num)\n",
    "    suma = sum(numeros)\n",
    "    return suma\n",
    "\n",
    "resultado1 = sumar_numeros()\n",
    "resultado2 = sumar_numeros()\n",
    "resultado3 = sumar_numeros()\n",
    "\n",
    "maximo = max(resultado1, resultado2, resultado3)\n",
    "print(f\"El máximo es {maximo}\")\n"
   ]
  },
  {
   "cell_type": "code",
   "execution_count": null,
   "id": "3e8d7696",
   "metadata": {},
   "outputs": [],
   "source": [
    "#3\n",
    "def sumar_numeros(*num):\n",
    "    numeros= int(input(\"Ingresa un número, para finalizar introduce 0 : \"))\n",
    "    suma = 0\n",
    "    while numeros != 0:  \n",
    "        suma +=numeros\n",
    "        numeros= int(input(\"Ingresa un número, para finalizar introduce 0 : \"))\n",
    "    return (suma)\n",
    "\n",
    "\n",
    "\n",
    "result1= sumar_numeros()\n",
    "print(\" \")\n",
    "result2= sumar_numeros()\n",
    "print(\" \")\n",
    "result3= sumar_numeros()\n",
    "print(\" \")\n",
    "print(f\"Los resultados de las sumas son: {result1} {result2} {result3}\")\n",
    "print(f\"El máximo número de las 3 sumas es: {max(result1,result2,result3)}\")    \n"
   ]
  },
  {
   "cell_type": "code",
   "execution_count": null,
   "id": "e301fe9d",
   "metadata": {},
   "outputs": [],
   "source": [
    "#4\n",
    "def maximo(a,b): \n",
    "    if x>y: \n",
    "        return x \n",
    "    else: \n",
    "        return y \n",
    "\n",
    "\n",
    "\n",
    "def minimo(a,b): \n",
    "    if x<y: \n",
    "         return x \n",
    "    else: \n",
    "         return y \n",
    "\n",
    "x=int(input(\"Un número: \")) \n",
    "\n",
    "y=int(input(\"Otro número: \")) \n",
    "\n",
    "print(maximo(x-3, minimo(x+2, y-5))) "
   ]
  },
  {
   "cell_type": "code",
   "execution_count": null,
   "id": "b108c326",
   "metadata": {},
   "outputs": [],
   "source": [
    "#5 recursividad\n",
    "\n",
    "def factorial(n):\n",
    "    if n == 0:\n",
    "        return 1\n",
    "    else:\n",
    "        return n * factorial(n-1)\n",
    "f=factorial(5)\n",
    "print(f)"
   ]
  },
  {
   "cell_type": "code",
   "execution_count": null,
   "id": "fb59b9a0",
   "metadata": {},
   "outputs": [],
   "source": [
    "#6\n",
    "def factorial(n):\n",
    "    if n == 0:\n",
    "        return 1\n",
    "    else:\n",
    "        return n * factorial(n-1)\n",
    "\n",
    "contador = 0\n",
    "numero = int(input(\"Introduce un número (-1 para salir): \"))\n",
    "\n",
    "while numero != -1:\n",
    "    print(f\"El factorial de {numero} es {factorial(numero)}\")\n",
    "    contador += 1\n",
    "    numero = int(input(\"Introduce un número (-1 para salir): \"))\n",
    "    \n",
    "print(f\"Se han calculado el factorial de {contador} números.\")"
   ]
  },
  {
   "cell_type": "code",
   "execution_count": null,
   "id": "b7dc1389",
   "metadata": {},
   "outputs": [],
   "source": [
    "#6\n",
    "def f(n):\n",
    "    c=1\n",
    "    for i in range(1,n+1):\n",
    "        c = i*c\n",
    "    return (c)\n",
    "\n",
    "\n",
    "\n",
    "contador = 0\n",
    "numero = int(input(\"Introduce un número (-1 para salir): \"))\n",
    "\n",
    "while numero != -1:\n",
    "    print(f\"El factorial de {numero} es {f (numero)}\")\n",
    "    contador += 1\n",
    "    numero = int(input(\"Introduce un número (-1 para salir): \"))\n",
    "    \n",
    "print(f\"Se han calculado el factorial de {contador} números.\")"
   ]
  },
  {
   "cell_type": "code",
   "execution_count": null,
   "id": "6d4f5f36",
   "metadata": {},
   "outputs": [],
   "source": [
    "#7\n",
    "def digitos(num):\n",
    "    suma = 0\n",
    "    for d in str(num):\n",
    "        suma += int(d)\n",
    "    return (suma)\n",
    "\n",
    "\n",
    "dig = 529\n",
    "\n",
    "sumas = digitos(dig)\n",
    "\n",
    "print(f\"La suma de los dígitos de {dig} es {sumas}\")\n",
    "    \n",
    "    "
   ]
  },
  {
   "cell_type": "code",
   "execution_count": null,
   "id": "08840e4c",
   "metadata": {},
   "outputs": [],
   "source": [
    "def primo(num):\n",
    "\n",
    "    for i in range(2,num):\n",
    "\n",
    "        if num % i == 0:\n",
    "\n",
    "            return False\n",
    "\n",
    "    return True\n",
    "print(primo(2))"
   ]
  },
  {
   "cell_type": "code",
   "execution_count": null,
   "id": "b9beb5ea",
   "metadata": {},
   "outputs": [],
   "source": [
    "def es_primo(x):\n",
    "    if x < 2:\n",
    "        return False\n",
    "\n",
    "    for num in range(2,x):\n",
    "        if x %num == 0:\n",
    "            return False\n",
    "\n",
    "    return True   \n",
    "\n",
    "print (es_primo(4))"
   ]
  },
  {
   "cell_type": "code",
   "execution_count": null,
   "id": "e155d96e",
   "metadata": {},
   "outputs": [],
   "source": [
    "Utilizando las funciones que has creado en los ejercicios 1.7.17, 1.7.19 y 1.7.20, crea un programa \n",
    "que solicite al usuario que introduzca un número, compruebe si es primo,\n",
    "en ese caso, que calcule la suma de sus dígitos y, en caso contrario, que devuelva su factorial."
   ]
  },
  {
   "cell_type": "code",
   "execution_count": null,
   "id": "1feaba14",
   "metadata": {},
   "outputs": [],
   "source": [
    "def primo(n):\n",
    "    for num in range(2,n):\n",
    "        if n % num == 0:\n",
    "            return False\n",
    "        \n",
    "    return True\n",
    "\n",
    "\n",
    "def digitos(num):\n",
    "    suma = 0\n",
    "    for d in str(num):\n",
    "        suma += int(d)\n",
    "    return (suma)\n",
    "\n",
    "\n",
    "def factorial(n):\n",
    "    if n == 0:\n",
    "        return 1\n",
    "    else:\n",
    "        return n * factorial(n-1)\n",
    "\n",
    "numero = int(input(\"Introduce un número: \"))\n",
    "if primo(numero):\n",
    "    # Si es primo, calculamos la suma de sus dígitos\n",
    "    suma_digitos = digitos(numero)\n",
    "    print(f\"La suma de los dígitos de {numero} es {digitos(numero)}.\")\n",
    "else:\n",
    "    # Si no es primo, calculamos su factorial\n",
    "    fact = factorial(numero)\n",
    "    print(f\"El factorial de {numero} es {fact}.\")\n",
    "\n",
    "\n"
   ]
  },
  {
   "cell_type": "code",
   "execution_count": null,
   "id": "90019418",
   "metadata": {},
   "outputs": [],
   "source": []
  },
  {
   "cell_type": "code",
   "execution_count": null,
   "id": "c500ae5b",
   "metadata": {},
   "outputs": [],
   "source": [
    "Crea un programa que muestre por pantalla cuántos días tiene el mes del año concreto que te indique un \n",
    "usuario. Para ello necesitas crear dos funciones, una de ellas que te devuelva True si el año introducido \n",
    "es bisiesto, y otra que indique el número de días que tiene un mes de un año concreto, \n",
    "ambos introducidos como parámetros."
   ]
  },
  {
   "cell_type": "code",
   "execution_count": null,
   "id": "647c0f94",
   "metadata": {},
   "outputs": [],
   "source": [
    "def es_bisiesto(anio):\n",
    "    if anio % 4 == 0:\n",
    "        return True\n",
    "    \n",
    "    else:\n",
    "        return False\n",
    "\n",
    "\n",
    "def dias_del_mes(mes, anio):\n",
    "    if mes == 2:\n",
    "        if es_bisiesto(anio):\n",
    "            return 29\n",
    "        else:\n",
    "            return 28\n",
    "    elif mes in [4, 6, 9, 11]:\n",
    "        return 30\n",
    "    else:\n",
    "        return 31\n",
    "\n",
    "\n",
    "# Pedimos al usuario que introduzca el mes y el año\n",
    "mes = int(input(\"Introduce el mes (1-12): \"))\n",
    "anio = int(input(\"Introduce el año: \"))\n",
    "\n",
    "# Mostramos el número de días que tiene el mes introducido\n",
    "print(f\"El mes {mes} del año {anio} tiene {dias_del_mes(mes, anio)} días.\")\n"
   ]
  },
  {
   "cell_type": "code",
   "execution_count": 1,
   "id": "c876da45",
   "metadata": {},
   "outputs": [
    {
     "name": "stdout",
     "output_type": "stream",
     "text": [
      "Introduce el mes (1-12): 2\n",
      "Introduce el año: 1987\n",
      "El mes 2 del año 1987 tiene 28 días.\n"
     ]
    }
   ],
   "source": [
    "def es_bisiesto(anio):\n",
    "    return anio % 4 == 0 and (anio % 100 != 0 or anio % 400 == 0)\n",
    "\n",
    "def dias_del_mes(mes, anio):\n",
    "    if mes == 2:\n",
    "        if es_bisiesto(anio):\n",
    "            return 29\n",
    "        else:\n",
    "            return 28\n",
    "    elif mes in [4, 6, 9, 11]:\n",
    "        return 30\n",
    "    else:\n",
    "        return 31\n",
    "\n",
    "# Pedimos al usuario que introduzca el mes y el año\n",
    "mes = int(input(\"Introduce el mes (1-12): \"))\n",
    "anio = int(input(\"Introduce el año: \"))\n",
    "\n",
    "# Mostramos el número de días que tiene el mes introducido\n",
    "print(f\"El mes {mes} del año {anio} tiene {dias_del_mes(mes, anio)} días.\")\n"
   ]
  },
  {
   "cell_type": "code",
   "execution_count": null,
   "id": "5dd8cd57",
   "metadata": {},
   "outputs": [],
   "source": [
    "def pedir_notas():\n",
    "    \"\"\"Función que pide las notas al usuario y las devuelve en una lista.\"\"\"\n",
    "    notas = []\n",
    "    while True:\n",
    "        nota = input(\"Introduce la nota del alumno (-1 para terminar): \")\n",
    "        if nota == \"-1\":\n",
    "            break\n",
    "        else:\n",
    "            nota = float(nota)\n",
    "            if nota < 0 or nota > 10:\n",
    "                print(\"Nota inválida. Introduce una nota entre 0 y 10.\")\n",
    "            else:\n",
    "                notas.append(nota)\n",
    "    return notas\n",
    "\n",
    "def calcular_media(notas):\n",
    "    \"\"\"Función que calcula la media de las notas.\"\"\"\n",
    "    if len(notas) == 0:\n",
    "        return None\n",
    "    else:\n",
    "        return sum(notas) / len(notas)\n",
    "\n",
    "notas = pedir_notas()\n",
    "media = calcular_media(notas)\n",
    "\n",
    "if media is None:\n",
    "    print(\"No se han introducido notas.\")\n",
    "else:\n",
    "    print(\"La media de las notas es:\", media)\n"
   ]
  },
  {
   "cell_type": "code",
   "execution_count": null,
   "id": "3252d307",
   "metadata": {},
   "outputs": [],
   "source": []
  }
 ],
 "metadata": {
  "kernelspec": {
   "display_name": "Python 3 (ipykernel)",
   "language": "python",
   "name": "python3"
  },
  "language_info": {
   "codemirror_mode": {
    "name": "ipython",
    "version": 3
   },
   "file_extension": ".py",
   "mimetype": "text/x-python",
   "name": "python",
   "nbconvert_exporter": "python",
   "pygments_lexer": "ipython3",
   "version": "3.9.13"
  }
 },
 "nbformat": 4,
 "nbformat_minor": 5
}
