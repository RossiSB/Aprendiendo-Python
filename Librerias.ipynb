{
 "cells": [
  {
   "cell_type": "markdown",
   "id": "7e874c3f",
   "metadata": {},
   "source": [
    "# Algunas librerias\n",
    " Para trabajar en el ámbito de la ciencia de datos hay una gran variedad de librerías y recursos,\n",
    "pero hay algunas que son esenciales para el análisis de datos. Son las siguientes:\n",
    "\n",
    "*Pandas. Es una librería para trabajar con conjuntos de datos en forma de tablas. Te permitirá\n",
    "hacer consultas y filtrar datos, entre otras operaciones relacionadas con el análisis.\n",
    "\n",
    "*NumPy. Es una librería que proporciona soporte para trabajar con grandes series y matrices\n",
    "de números. A su vez, contiene una gran cantidad de funciones matemáticas para trabajar\n",
    "con dichos elementos.\n",
    "\n",
    "*Scikit-learn. Es una librería especializada en machine learning que ofrece herramientas para\n",
    "evaluar y optimizar modelos.\n",
    "\n",
    "*SciPy. Es una librería que proporciona una gran variedad de funciones matemáticas y\n",
    "científicas. Contiene algoritmos más avanzados y especializados que NumPy\n",
    "\n",
    "*Matplotlib. Es una librería que se utiliza para crear gráficos y visualizaciones de datos en\n",
    "forma de líneas, barras, gráficos de dispersión, etc. Es muy flexible y permite crear gráficos\n",
    "de alta calidad personalizados."
   ]
  },
  {
   "cell_type": "code",
   "execution_count": null,
   "id": "48109214",
   "metadata": {},
   "outputs": [],
   "source": [
    "crea, a partir de alguna de las funciones de las que dispone la librería Numpy, una serie de valores\n",
    "(al igual que se vió en el ejemplo), pero esta vez serán 20 valores comprendidos entre el -6 y el 6, \n",
    "equidistantes entre sí."
   ]
  },
  {
   "cell_type": "code",
   "execution_count": 1,
   "id": "c731880e",
   "metadata": {},
   "outputs": [
    {
     "name": "stdout",
     "output_type": "stream",
     "text": [
      "[-6.         -5.36842105 -4.73684211 -4.10526316 -3.47368421 -2.84210526\n",
      " -2.21052632 -1.57894737 -0.94736842 -0.31578947  0.31578947  0.94736842\n",
      "  1.57894737  2.21052632  2.84210526  3.47368421  4.10526316  4.73684211\n",
      "  5.36842105  6.        ]\n"
     ]
    }
   ],
   "source": [
    "import numpy as np\n",
    "numeros = np.linspace(-6,6,20)\n",
    "print(numeros)"
   ]
  },
  {
   "cell_type": "code",
   "execution_count": 4,
   "id": "2ac79490",
   "metadata": {},
   "outputs": [
    {
     "name": "stdout",
     "output_type": "stream",
     "text": [
      "La fecha de hoy es 2023-07-25\n",
      "La nueva fecha es 2023-12-26\n"
     ]
    }
   ],
   "source": [
    "import datetime\n",
    "\n",
    "now = datetime.date.today()\n",
    "print(f\"La fecha de hoy es {now}\")\n",
    "\n",
    "nueva_fecha = now.replace(year=2023, month=12, day=26)\n",
    "print(f\"La nueva fecha es {nueva_fecha}\")\n"
   ]
  },
  {
   "cell_type": "code",
   "execution_count": 5,
   "id": "a7b6f25b",
   "metadata": {},
   "outputs": [
    {
     "name": "stdout",
     "output_type": "stream",
     "text": [
      "La fecha de hoy es 2023-07-25\n"
     ]
    }
   ],
   "source": [
    "from datetime import date\n",
    "now = datetime.date.today()\n",
    "print(f\"La fecha de hoy es {now}\")"
   ]
  },
  {
   "cell_type": "code",
   "execution_count": 6,
   "id": "a3a7c4fd",
   "metadata": {},
   "outputs": [
    {
     "name": "stdout",
     "output_type": "stream",
     "text": [
      "0.5392169683220123\n"
     ]
    }
   ],
   "source": [
    "import random\n",
    "\n",
    "numero_aleatorio = random.random()\n",
    "print(numero_aleatorio)\n"
   ]
  },
  {
   "cell_type": "code",
   "execution_count": 1,
   "id": "80ac557c",
   "metadata": {},
   "outputs": [
    {
     "name": "stdout",
     "output_type": "stream",
     "text": [
      "5.578783509262578\n",
      "6\n"
     ]
    }
   ],
   "source": [
    "import random\n",
    "\n",
    "numero1 = random.uniform(4,6)\n",
    "print(numero1)\n",
    "\n",
    "numero2 = random.randint(4,6)\n",
    "print(numero2)\n"
   ]
  },
  {
   "cell_type": "code",
   "execution_count": null,
   "id": "3e4f7602",
   "metadata": {},
   "outputs": [],
   "source": []
  }
 ],
 "metadata": {
  "kernelspec": {
   "display_name": "Python 3 (ipykernel)",
   "language": "python",
   "name": "python3"
  },
  "language_info": {
   "codemirror_mode": {
    "name": "ipython",
    "version": 3
   },
   "file_extension": ".py",
   "mimetype": "text/x-python",
   "name": "python",
   "nbconvert_exporter": "python",
   "pygments_lexer": "ipython3",
   "version": "3.9.13"
  }
 },
 "nbformat": 4,
 "nbformat_minor": 5
}
