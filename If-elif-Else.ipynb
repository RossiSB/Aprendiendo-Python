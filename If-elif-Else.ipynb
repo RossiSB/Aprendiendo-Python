{
 "cells": [
  {
   "cell_type": "markdown",
   "id": "ed3bf77a",
   "metadata": {},
   "source": [
    "# Primeros pasos en Python"
   ]
  },
  {
   "cell_type": "code",
   "execution_count": 1,
   "id": "050533b9",
   "metadata": {},
   "outputs": [
    {
     "name": "stdout",
     "output_type": "stream",
     "text": [
      "Estoy empezando el curso\n"
     ]
    }
   ],
   "source": [
    "print(\"Estoy empezando el curso\")"
   ]
  },
  {
   "cell_type": "code",
   "execution_count": 2,
   "id": "ec3339d3",
   "metadata": {},
   "outputs": [
    {
     "name": "stdout",
     "output_type": "stream",
     "text": [
      "0\n",
      "1 2\n",
      "3 4 5\n",
      "6 7 8 9\n"
     ]
    }
   ],
   "source": [
    "print(0)\n",
    "print(1,2)\n",
    "print(3,4,5)\n",
    "print(6,7,8,9)"
   ]
  },
  {
   "cell_type": "code",
   "execution_count": 3,
   "id": "f0027e39",
   "metadata": {},
   "outputs": [
    {
     "name": "stdout",
     "output_type": "stream",
     "text": [
      "       0\n",
      "     1 2\n",
      "   3 4 5\n",
      " 6 7 8 9\n"
     ]
    }
   ],
   "source": [
    "print(\"       0\")\n",
    "print(\"     1 2\")\n",
    "print(\"   3 4 5\")\n",
    "print(\" 6 7 8 9\")"
   ]
  },
  {
   "cell_type": "code",
   "execution_count": 4,
   "id": "33d7c283",
   "metadata": {},
   "outputs": [
    {
     "name": "stdout",
     "output_type": "stream",
     "text": [
      "    0\n",
      "   1 2\n",
      "  3 4 5\n",
      " 6 7 8 9\n"
     ]
    }
   ],
   "source": [
    "print(\"    0\")\n",
    "print(\"   1 2\")\n",
    "print(\"  3 4 5\")\n",
    "print(\" 6 7 8 9\")"
   ]
  },
  {
   "cell_type": "code",
   "execution_count": 5,
   "id": "3bde5dc9",
   "metadata": {},
   "outputs": [
    {
     "name": "stdout",
     "output_type": "stream",
     "text": [
      "PPPPPP DDD A \n",
      "P P D D A A \n",
      "P P D D A A\n",
      "PPPPP D D AAAAA\n",
      "P D D A A\n",
      "P D D A A\n",
      "P DDD A A\n"
     ]
    }
   ],
   "source": [
    "print('PPPPPP DDD A ')\n",
    "print('P P D D A A ')\n",
    "print('P P D D A A')\n",
    "print('PPPPP D D AAAAA')\n",
    "print('P D D A A')\n",
    "print('P D D A A')\n",
    "print('P DDD A A')"
   ]
  },
  {
   "cell_type": "code",
   "execution_count": null,
   "id": "df84cd12",
   "metadata": {},
   "outputs": [],
   "source": [
    "#Crea un programa que pida introducir un número y compruebe si es múltiplo de 7 (es decir, si al dividir dicho número entre 7, su resto es cero).\n",
    "\n"
   ]
  },
  {
   "cell_type": "code",
   "execution_count": 8,
   "id": "1af987af",
   "metadata": {
    "scrolled": true
   },
   "outputs": [
    {
     "name": "stdout",
     "output_type": "stream",
     "text": [
      "Introduce un número: 13\n",
      "13 No es múltiplo de 7\n"
     ]
    }
   ],
   "source": [
    "x = int(input(\"Introduce un número: \"))\n",
    "if x % 7 == 0:\n",
    "    print(str(x) , \"Es múltiplo de 7\")\n",
    "else :\n",
    "    print(str(x), \"No es múltiplo de 7\")\n"
   ]
  },
  {
   "cell_type": "code",
   "execution_count": 16,
   "id": "1925a01d",
   "metadata": {},
   "outputs": [
    {
     "name": "stdout",
     "output_type": "stream",
     "text": [
      "Introduce un número: 21\n",
      "Este número es múltiplo de 7 y de 3\n"
     ]
    }
   ],
   "source": [
    "n= float(input(\"Introduce un número: \"))\n",
    "\n",
    "if (n%7==0) and (n%3==0):\n",
    "    print(\"Este número es múltiplo de 7 y de 3\")\n",
    "elif (n%7==0):\n",
    "    print(\"Este número es múltiplo de 7\")\n",
    "elif (n%3==0):\n",
    "    print(\"Este número es múltiplo de 3\")\n",
    "else:\n",
    "    print(\"Este número no es múltiplo de 7 ni de 3\")"
   ]
  },
  {
   "cell_type": "code",
   "execution_count": 15,
   "id": "dc0e0603",
   "metadata": {},
   "outputs": [
    {
     "name": "stdout",
     "output_type": "stream",
     "text": [
      "Introduce un número entero: 8\n",
      "Intenta de nuevo.\n",
      "Introduce un número entero: 7\n",
      "Intenta de nuevo.\n",
      "Introduce un número entero: 42\n",
      "Éxito! El número introducido es múltiplo de 7 y mayor de 30.\n"
     ]
    }
   ],
   "source": [
    "while True:\n",
    "    num = int(input(\"Introduce un número entero: \"))\n",
    "    if num > 30 and num % 7 == 0:\n",
    "        print(\"Éxito! El número introducido es múltiplo de 7 y mayor de 30.\")\n",
    "        break\n",
    "    else:\n",
    "        print(\"Intenta de nuevo.\")"
   ]
  },
  {
   "cell_type": "code",
   "execution_count": 9,
   "id": "36ca6d2d",
   "metadata": {},
   "outputs": [
    {
     "name": "stdout",
     "output_type": "stream",
     "text": [
      "Introduce el dividendo: 9\n",
      "Introduce el divisor: 3\n",
      "La división es exacta.\n",
      "Cociente: 3.0\n"
     ]
    }
   ],
   "source": [
    "dividendo = int(input(\"Introduce el dividendo: \"))\n",
    "divisor = int(input(\"Introduce el divisor: \"))\n",
    "\n",
    "if divisor == 0:\n",
    "    print(\"No se puede dividir entre cero.\")\n",
    "else:\n",
    "    if dividendo % divisor == 0:\n",
    "        print(\"La división es exacta.\")\n",
    "        print(\"Cociente:\", dividendo / divisor)\n",
    "    else:\n",
    "        print(\"La división no es exacta.\")\n",
    "        print(\"Cociente:\", dividendo / divisor)\n",
    "        print(\"Resto:\", dividendo % divisor)"
   ]
  },
  {
   "cell_type": "code",
   "execution_count": null,
   "id": "8141e878",
   "metadata": {},
   "outputs": [],
   "source": []
  }
 ],
 "metadata": {
  "kernelspec": {
   "display_name": "Python 3 (ipykernel)",
   "language": "python",
   "name": "python3"
  },
  "language_info": {
   "codemirror_mode": {
    "name": "ipython",
    "version": 3
   },
   "file_extension": ".py",
   "mimetype": "text/x-python",
   "name": "python",
   "nbconvert_exporter": "python",
   "pygments_lexer": "ipython3",
   "version": "3.9.13"
  }
 },
 "nbformat": 4,
 "nbformat_minor": 5
}
