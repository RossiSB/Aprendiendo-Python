{
 "cells": [
  {
   "cell_type": "markdown",
   "id": "4944636c",
   "metadata": {},
   "source": [
    "# Listas\n",
    "\n",
    "### Para utilizar y trabajar con listas tenemos una serie de métodos ya creados con una serie de funcionalidades, que nos van a permitir, entre otras cosas, añadir elementos, eliminarlos,ordenarlos, copiarlos, etc. Vamos a verlos en detalle."
   ]
  },
  {
   "cell_type": "markdown",
   "id": "0e61445c",
   "metadata": {},
   "source": [
    "\n",
    "Tenemos la siguiente lista con las áreas de espacios de una casa. Se pide, en primer lugar, modificar el área del baño (bathroom) a 10.50 y, en segundo lugar, cambiar \"living room\" por \"chill zone\". Se pide además añadir un nuevo área, el garaje que tiene 13.50\n",
    "areas = [\"hallway\", 11.25, \"kitchen\", 18.0, \"living room\", 20.0, \"bedroom\", 10.75, \"bathroom\", 9.50]\n",
    "\n"
   ]
  },
  {
   "cell_type": "code",
   "execution_count": null,
   "id": "91f97532",
   "metadata": {},
   "outputs": [],
   "source": [
    "areas = [\"hallway\", 11.25, \"kitchen\", 18.0, \"living room\", 20.0, \"bedroom\", 10.75, \"bathroom\", 9.50]\n",
    "\n",
    "areas[-1] = 10.50\n",
    "print(areas)\n",
    "areas[4] = \"chill zone\"\n",
    "print(areas)\n",
    "areas.append(\"garaje\")\n",
    "print(areas)\n",
    "areas.append(13.50)"
   ]
  },
  {
   "cell_type": "markdown",
   "id": "322a1741",
   "metadata": {},
   "source": [
    "Dada la siguiente lista a la que llamamos mi_lista1,elimina la letra 'D' con la función .pop() e imprime dos mensajes por pantalla:El primero que diga \"El elemento borrado de la lista ha sido el \"elemento\",sin nombrar directamente 'D', es decir, utilizando ese misma orden .pop(). El segundo que diga \"La lista resultante es \"lista_nueva\".Además, añade al final de la lista resultante la letra 'H' con la función .append()"
   ]
  },
  {
   "cell_type": "code",
   "execution_count": null,
   "id": "f8a9ba01",
   "metadata": {},
   "outputs": [],
   "source": [
    "mi_lista1 = ['A', 'B', 'C', 'D', 'E', 'F', 'G']\n",
    "borrado = mi_lista1.pop(3)\n",
    "print(\"El elemento borrado de la lista\",mi_lista1, \"ha sido el elemento\",borrado)\n",
    "agregado =\"H\"\n",
    "agregado= mi_lista1.append(agregado)\n",
    "print(\"El elemento h ha sido agregado a la lista\",mi_lista1)"
   ]
  },
  {
   "cell_type": "code",
   "execution_count": null,
   "id": "77282887",
   "metadata": {},
   "outputs": [],
   "source": [
    "\n",
    "A partir de la siguiente lista llamada lista_telefonica,\n",
    "crea un programa que obtenga como resultado dos listas nuevas,\n",
    "una con los nombres que figuran en ella, y otra diferente con los \"números de teléfono.\n",
    "\n",
    "lista_telefonica = [[\"Vanesa\",546894],[\"Jaime\",456098], [\"Roberto\",235108], [\"Jesús\",546743]]\n",
    "\n"
   ]
  },
  {
   "cell_type": "code",
   "execution_count": null,
   "id": "7410f538",
   "metadata": {},
   "outputs": [],
   "source": [
    "lista_telefonica = [[\"Vanesa\",546894],[\"Jaime\",456098], [\"Roberto\",235108], [\"Jesús\",546743]]\n",
    "\n",
    "nombres = []\n",
    "numeros = []\n",
    "for contacto in lista_telefonica:\n",
    "    nombres.append(contacto[0])\n",
    "    numeros.append(contacto[1])\n",
    "print(\"Lista de nombres:\", nombres)\n",
    "print(\"Lista de números de teléfono:\", numeros)\n"
   ]
  },
  {
   "cell_type": "code",
   "execution_count": null,
   "id": "4a30d779",
   "metadata": {},
   "outputs": [],
   "source": [
    "A partir del esquema de resolución del ejercicio anterior, cómo incorporaríamos una condición según la cuál,\n",
    "si el nombre de la persona empieza por \"J\", no la incluya en la lista de nombres"
   ]
  },
  {
   "cell_type": "code",
   "execution_count": null,
   "id": "0d09295e",
   "metadata": {},
   "outputs": [],
   "source": [
    "lista_nombres =[]\n",
    "lista_telefonos =[] \n",
    "list() \n",
    "for lista in lista_telefonica:    \n",
    "    if lista[0][0] != \"J\":        \n",
    "        lista_nombres.append(lista[0])        \n",
    "        lista_telefonos.append(lista[1])\n",
    "    else:        \n",
    "        lista_telefonos.append(lista[1]) z\n",
    "print(lista_nombres)print(lista_telefonos)"
   ]
  },
  {
   "cell_type": "code",
   "execution_count": null,
   "id": "94a08d2c",
   "metadata": {},
   "outputs": [],
   "source": [
    "lista_telefonica = [[\"Vanesa\", 546894], [\"Jaime\", 456098], [\"Roberto\", 235108], [\"Jesús\", 546743]]\n",
    "nombres = []\n",
    "numeros = []\n",
    "for contacto in lista_telefonica:\n",
    "    nombres.append(contacto[0])\n",
    "    numeros.append(contacto[1])\n",
    "    \n",
    "nombres_filtrados = [nombre for nombre in nombres if nombre[0] != \"J\"]\n",
    "    \n",
    "print(\"Lista de nombres:\", nombres_filtrados)\n",
    "print(\"Lista de números de teléfono:\", numeros)\n"
   ]
  },
  {
   "cell_type": "code",
   "execution_count": null,
   "id": "25731894",
   "metadata": {},
   "outputs": [],
   "source": [
    "color = \"rojo\",\"verde\",\"amarilo\"\n",
    "lista_colores = []\n",
    "lista_colores.append(color)\n",
    "print(lista_colores)\n"
   ]
  },
  {
   "cell_type": "code",
   "execution_count": null,
   "id": "8a7c3390",
   "metadata": {},
   "outputs": [],
   "source": [
    "colores = [\"rojo\",\"verde\",\"azul\"]\n",
    "print (colores[colores.index(\"verde\")])\n",
    "\n",
    "#de la lista colores traer \"el texto\"\n"
   ]
  },
  {
   "cell_type": "code",
   "execution_count": null,
   "id": "ceaa85fd",
   "metadata": {},
   "outputs": [],
   "source": [
    "colores = [\"rojo\",\"verde\",\"azul\"]\n",
    "colores.append(\"negro\")\n",
    "print(colores)\n"
   ]
  },
  {
   "cell_type": "code",
   "execution_count": null,
   "id": "71d0db96",
   "metadata": {},
   "outputs": [],
   "source": [
    "Crea un programa que construya una lista que contenga los números del 1 al 10 y muéstrala por pantalla.\n",
    "\n",
    "Comparte el resultado en el foro."
   ]
  },
  {
   "cell_type": "code",
   "execution_count": null,
   "id": "03438700",
   "metadata": {},
   "outputs": [],
   "source": [
    "\n",
    "numeros = []\n",
    "for i in range(1, 11):\n",
    "    numeros.append(i)\n",
    "print(numeros)\n"
   ]
  },
  {
   "cell_type": "code",
   "execution_count": null,
   "id": "4553aef2",
   "metadata": {},
   "outputs": [],
   "source": [
    "lista = list(range(1,11))\n",
    "print (lista)"
   ]
  },
  {
   "cell_type": "code",
   "execution_count": null,
   "id": "a1812fbf",
   "metadata": {},
   "outputs": [],
   "source": [
    "# crea una lista que comienza desde num + 1(11)y termina en num + 10(20)\n",
    "num =10\n",
    "lista = list(range(num+1,num+11))\n",
    "print (lista)"
   ]
  },
  {
   "cell_type": "code",
   "execution_count": null,
   "id": "9e6bc383",
   "metadata": {},
   "outputs": [],
   "source": [
    "copy()\n",
    "count()\n",
    "insert(5,\"elemento\")#ingresa el elemento el indice deseado\n",
    "enumarate()\n",
    "extend()#añade una segunda lista ala primera\n",
    "reverse()#invierte la lista \n",
    "sort(reverse=False)#ASCENDENTE\n",
    "sort(reverse=True) #DESCENDENTE\n",
    "sort(reverse=False,Key=len)#esta ordenando por cantidad de letras \n",
    "\n",
    "\n"
   ]
  },
  {
   "cell_type": "code",
   "execution_count": null,
   "id": "ba7a652b",
   "metadata": {},
   "outputs": [],
   "source": [
    "lista_animales=[\"vaca\",\"perro\",\"gato\"]\n",
    "lista_animales.reverse()\n",
    "print(lista_animales)"
   ]
  },
  {
   "cell_type": "code",
   "execution_count": null,
   "id": "05274523",
   "metadata": {},
   "outputs": [],
   "source": [
    "lista_c1 = [\"Huevos\", \"Leche\", \"Pan\", \"Yogures\", \"Servilletas\"]\n",
    "lista_c2 = [\"Manzanas\", \"Gel\", \"Suavizante\", \"Zanahorias\", \"Merengue\"]\n",
    "lista_c1.extend(lista_c2)\n",
    "print(lista_c1)"
   ]
  },
  {
   "cell_type": "code",
   "execution_count": null,
   "id": "b09a28aa",
   "metadata": {},
   "outputs": [],
   "source": [
    "lista_c1 = [\"Huevos\", \"Leche\", \"Pan\", \"Yogures\", \"Servilletas\"]\n",
    "lista_c2 = [\"Manzanas\", \"Gel\", \"Suavizante\", \"Zanahorias\", \"Merengue\"]\n",
    "\n",
    "lista_total = lista_c1 + lista_c2\n",
    "print(lista_total)\n"
   ]
  },
  {
   "cell_type": "code",
   "execution_count": null,
   "id": "60b407e8",
   "metadata": {},
   "outputs": [],
   "source": [
    "Introduce el elemento \"Huevos\" en la posición 3 \n",
    "(que no coincide con el índice) de la lista y \n",
    "el elemento \"Pan\" en la última posición."
   ]
  },
  {
   "cell_type": "code",
   "execution_count": null,
   "id": "703e3d25",
   "metadata": {},
   "outputs": [],
   "source": [
    "lista_c1 = [\"Huevos\", \"Leche\", \"Pan\", \"Yogures\", \"Servilletas\"]\n",
    "lista_c1.insert(2,\"Huevos\")\n",
    "lista_c1.append(\"Pan\")\n",
    "print (lista_c1)"
   ]
  },
  {
   "cell_type": "code",
   "execution_count": null,
   "id": "9488ac29",
   "metadata": {},
   "outputs": [],
   "source": [
    "Introduce el elemento \"Harina\" en la posicion correspondiente a la resta de los índices del elemento \"Huevos\""
   ]
  },
  {
   "cell_type": "code",
   "execution_count": null,
   "id": "5e738108",
   "metadata": {},
   "outputs": [],
   "source": [
    "lista_c1 = [\"Huevos\", \"Leche\", \"Pan\", \"Yogures\", \"Servilletas\"]\n",
    "lista_c1.insert(2,\"Huevos\")\n",
    "lista_c1.append(\"Pan\")\n",
    "resta_indices = lista_c1.index(\"Huevos\") - lista_c1.index(\"Huevos\")\n",
    "lista_c1.insert(resta_indices, \"Harina\")\n",
    "print(lista_c1)\n"
   ]
  },
  {
   "cell_type": "code",
   "execution_count": null,
   "id": "35765ac9",
   "metadata": {},
   "outputs": [],
   "source": [
    "lista_c1 = [\"Huevos\", \"Leche\", \"Pan\", \"Yogures\", \"Servilletas\"]\n",
    "resta_indices = lista_c1.index(\"Yogures\") - lista_c1.index(\"Pan\")\n",
    "lista_c1.insert(resta_indices, \"Harina\")\n",
    "print(lista_c1)\n"
   ]
  },
  {
   "cell_type": "code",
   "execution_count": null,
   "id": "d1d0f12c",
   "metadata": {},
   "outputs": [],
   "source": [
    "\n",
    "lista_c1 = [\"Huevos\", \"Leche\", \"Pan\", \"Yogures\", \"Servilletas\"]\n",
    "lista_c1.insert(2,\"Huevos\")\n",
    "lista_c1.append(\"Pan\")\n",
    "print (lista_c1)\n",
    "lista_c2 = lista_c1.copy()\n",
    "print(lista_c2) huevos1 = lista_c1.index(\"Huevos\")\n",
    "print(huevos1) del lista_c1[huevos1]\n",
    "print(lista_c1) huevos2 = lista_c1.index(\"Huevos\")+1\n",
    "print(huevos2) lista_c2.insert((huevos2-huevos1), \"Harina\")\n",
    "print(lista_c2)"
   ]
  },
  {
   "cell_type": "code",
   "execution_count": null,
   "id": "dff4212f",
   "metadata": {},
   "outputs": [],
   "source": [
    "\n",
    "lista_c1 = [\"Huevos\", \"Leche\", \"Pan\", \"Yogures\", \"Servilletas\"]\n",
    "\n",
    "lista_c2 = [\"Manzanas\", \"Gel\", \"Suavizante\", \"Zanahorias\", \"Merengue\"]\n",
    "\n",
    "lista_c3=[*lista_c1,*lista_c2]\n",
    "\n",
    "print(lista_c3)\n",
    "\n"
   ]
  },
  {
   "cell_type": "code",
   "execution_count": null,
   "id": "bb4ac27e",
   "metadata": {},
   "outputs": [],
   "source": [
    "\n",
    "Dada la siguiente lista de elementos, crea un programa que imprima por pantalla\n",
    "cuatro listas distintas; una por cada tipo de elemento que es posible encontrarse en ella,\n",
    "es decir, string, booleano, entero o decimal. En caso de que encuentre algún elemento que no sea de este tipo,\n",
    "mostrar \"El elemento {i} no está permitido\".\n",
    "\n",
    "lista_mezcla = [\"Hola\", \"mundo\", True, 1, 2, 3, \"Python\", 5.5 , \"Anaconda\", 6.66 , 7, \"Spyder\", False]\n",
    "\n"
   ]
  },
  {
   "cell_type": "code",
   "execution_count": null,
   "id": "5aa4a705",
   "metadata": {},
   "outputs": [],
   "source": [
    "\n",
    "lista_mezcla = [\"Hola\", \"mundo\", True, 1, 2, 3, \"Python\", 5.5 , \"Anaconda\", 6.66 , 7, \"Spyder\", False]\n",
    "\n",
    "strings = []\n",
    "booleans = []\n",
    "enteros = []\n",
    "decimales = []\n",
    "\n",
    "for i in lista_mezcla:\n",
    "    if type(i) == str:\n",
    "        strings.append(i)\n",
    "    elif type(i) == bool:\n",
    "        booleans.append(i)\n",
    "    elif type(i) == int:\n",
    "        enteros.append(i)\n",
    "    elif type(i) == float:\n",
    "        decimales.append(i)\n",
    "    else:\n",
    "        print(f\"El elemento {i} no está permitido\")\n",
    "\n",
    "print(\"Lista de strings:\", strings)\n",
    "print(\"Lista de booleanos:\", booleans)\n",
    "print(\"Lista de enteros:\", enteros)\n",
    "print(\"Lista de decimales:\", decimales)\n",
    "\n"
   ]
  },
  {
   "cell_type": "code",
   "execution_count": null,
   "id": "56781ae8",
   "metadata": {},
   "outputs": [],
   "source": [
    "# Crear una lista de películas\n",
    "peliculas = [\"El Padrino\", \"Tiburón\", \"Los Cazafantasmas\", \"El Exorcista\", \"Pulp Fiction\", \"Star Wars\"]\n",
    "\n",
    "# Crear un diccionario para almacenar las puntuaciones\n",
    "puntuaciones = {}\n",
    "\n",
    "# Pedir al usuario que asigne una puntuación a cada película\n",
    "for pelicula in peliculas:\n",
    "    puntaje = int(input(\"¿Qué puntuación del 1 al 10 le das a \" + pelicula + \"? \"))\n",
    "    puntuaciones[pelicula] = puntaje\n",
    "\n",
    "# Crear una lista de películas aprobadas\n",
    "aprobadas = [pelicula for pelicula, puntaje in puntuaciones.items() if puntaje >= 5]\n",
    "\n",
    "# Mostrar la lista de películas aprobadas\n",
    "print(\"Las películas aprobadas son:\")\n",
    "for pelicula in aprobadas:\n",
    "    print(\"- \" + pelicula)\n"
   ]
  },
  {
   "cell_type": "code",
   "execution_count": null,
   "id": "6f1aefee",
   "metadata": {},
   "outputs": [],
   "source": [
    "peliculas = [\"El Padrino\", \"Tiburón\", \"Los Cazafantasmas\", \"El Exorcista\", \"Pulp Fiction\", \"Star Wars\"]\n",
    "puntuaciones = []\n",
    "for p in peliculas:\n",
    "    puntos = int(input(f\"Que puntaje del 1 al 10 le das a {p}?\"))\n",
    "    if puntos > 5:\n",
    "        puntuaciones.append(p)\n",
    "for i in puntuaciones: \n",
    "    print(f\"Las películas aprobadas son: {puntuaciones}\")\n",
    "        \n"
   ]
  },
  {
   "cell_type": "code",
   "execution_count": null,
   "id": "ae4f3c90",
   "metadata": {},
   "outputs": [],
   "source": [
    "peliculas = [\"El Padrino\", \"Tiburón\", \"Los Cazafantasmas\", \"El Exorcista\", \"Pulp Fiction\", \"Star Wars\"]\n",
    "puntuaciones = []\n",
    "for p in peliculas:\n",
    "    puntos = int(input(f\"¿Qué puntaje del 1 al 10 le das a {p}? \"))\n",
    "    if puntos > 5:\n",
    "        puntuaciones.append(p)\n",
    "\n",
    "print(f\"Las películas aprobadas son: {puntuaciones}\")\n"
   ]
  },
  {
   "cell_type": "code",
   "execution_count": null,
   "id": "4f475149",
   "metadata": {},
   "outputs": [],
   "source": []
  },
  {
   "cell_type": "code",
   "execution_count": null,
   "id": "84e606a8",
   "metadata": {},
   "outputs": [],
   "source": [
    "peliculas = [\"El Padrino\", \"Tiburón\", \"Los Cazafantasmas\", \"El Exorcista\", \"Pulp Fiction\", \"Star Wars\"]\n",
    "\n",
    "puntuaciones = []\n",
    "eliminadas = []\n",
    "\n",
    "\n",
    "for p in peliculas:\n",
    "    puntos = int(input(f\"¿Qué puntaje del 1 al 10 le das a {p}? \"))\n",
    "    if puntos >= 5:\n",
    "        puntuaciones.append(p)\n",
    "    else:\n",
    "        eliminadas.append(p)\n",
    "print(\"Las películas eliminadas son: \",eliminadas)\n",
    "print(\"La nueva lista es:\", puntuaciones)\n",
    "\n",
    "\n",
    "\n",
    "\n"
   ]
  },
  {
   "cell_type": "code",
   "execution_count": null,
   "id": "972a34a0",
   "metadata": {},
   "outputs": [],
   "source": [
    "colores = [\"rojo\",\"verde\",\"amarillo\",\"azul\",\"blanco\",\"verde\",\"rojo\"]\n",
    "\n",
    "colores.remove(\"rojo\")\n",
    "\n",
    "print(colores)"
   ]
  },
  {
   "cell_type": "code",
   "execution_count": null,
   "id": "4acb3adb",
   "metadata": {},
   "outputs": [],
   "source": [
    "colores = [\"rojo\",\"verde\",\"amarillo\",\"azul\",\"blanco\",\"verde\",\"rojo\"]\n",
    "del colores[5:]\n",
    "print(colores)"
   ]
  },
  {
   "cell_type": "code",
   "execution_count": null,
   "id": "5f863b98",
   "metadata": {},
   "outputs": [],
   "source": [
    "#elimina duplicados  list(dict.fromkeys())\n",
    "colores = [\"rojo\",\"verde\",\"amarillo\",\"azul\",\"blanco\",\"verde\",\"rojo\"]\n",
    "colores= list(dict.fromkeys(colores))\n",
    "print (colores)\n"
   ]
  },
  {
   "cell_type": "code",
   "execution_count": null,
   "id": "f3afb970",
   "metadata": {},
   "outputs": [],
   "source": [
    "#otra forma de eliminar duplicados usando set ya que solo almacena valores únicos \n",
    "\n",
    "colores = [\"rojo\",\"verde\",\"amarillo\",\"azul\",\"blanco\",\"verde\",\"rojo\"]\n",
    "n= set(colores)\n",
    "print (n)"
   ]
  },
  {
   "cell_type": "code",
   "execution_count": null,
   "id": "8b73b946",
   "metadata": {},
   "outputs": [],
   "source": []
  },
  {
   "cell_type": "code",
   "execution_count": null,
   "id": "4bdcfed1",
   "metadata": {},
   "outputs": [],
   "source": [
    "colores = ['rojo', 'verde', 'amarillo', 'azul', 'blanco', 'verde', 'rojo', 'rojo', 'verde']\n",
    "for c in colores:\n",
    "    if colores.count(c)==1:\n",
    "        colores.append(c)\n",
    "colores.sort()       \n",
    "print(colores)"
   ]
  },
  {
   "cell_type": "code",
   "execution_count": null,
   "id": "41b7e299",
   "metadata": {},
   "outputs": [],
   "source": [
    "#ordenar en forma descendente \n",
    "num = [25, 3, 16, 2, 21, 18, 1] \n",
    "elementos = [\"casa\",\"avión\",\"camino\",\"barco\",\"animal\"]\n",
    "num.sort(reverse=True)\n",
    "elementos.sort(key=len)\n",
    "print (num+elementos)"
   ]
  },
  {
   "cell_type": "code",
   "execution_count": null,
   "id": "c03c1d63",
   "metadata": {},
   "outputs": [],
   "source": [
    "colores  = [\"rojo\",\"verde\",\"amarillo\",\"azul\",\"blanco\",\"negro\"]\n",
    "color = input(\"Introduce un color: \")\n",
    "encontrado = False  #creamos la variable true or false\n",
    "for c in colores:\n",
    "    if c == color:\n",
    "        encontrado = True\n",
    "        break\n",
    "if encontrado: \n",
    "    print (f\"{color}  está en la lista \")\n",
    "else: \n",
    "    print (f\"{color} no está en la lista \")\n"
   ]
  },
  {
   "cell_type": "code",
   "execution_count": null,
   "id": "1557459c",
   "metadata": {},
   "outputs": [],
   "source": [
    "colores  = [\"rojo\",\"verde\",\"amarillo\",\"azul\",\"blanco\",\"negro\"]\n",
    "color = input(\"Introduce un color: \")\n",
    "if color in colores:\n",
    "    print(f\"{color} está en la pocisión {colores.index(\"rojo\")}de la lista.\")\n",
    "else:\n",
    "    print(f\"{color} no está en la lista.\")"
   ]
  },
  {
   "cell_type": "code",
   "execution_count": null,
   "id": "260326b4",
   "metadata": {},
   "outputs": [],
   "source": [
    "colores  = [\"rojo\",\"verde\",\"amarillo\",\"azul\",\"blanco\",\"negro\"]\n",
    "color = input(\"Introduce un color: \")\n",
    "\n",
    "if color in colores: \n",
    "    posicion = colores.index(color)\n",
    "    print(f\"{color} está en la posición {colores.index(color)} de la lista.\")\n",
    "else:\n",
    "    print(f\"{color} no está en la lista.\")"
   ]
  },
  {
   "cell_type": "code",
   "execution_count": null,
   "id": "73f5d9ee",
   "metadata": {},
   "outputs": [],
   "source": [
    "#el orden que corresponda, siempre que el número no esté ya en la lista.\n",
    "Si el número está en la lista que devuelva el mensaje “El número x ya está en la lista.”.\n"
   ]
  },
  {
   "cell_type": "code",
   "execution_count": null,
   "id": "bb636533",
   "metadata": {},
   "outputs": [],
   "source": [
    "numeros = [1, 2, 3, 16, 18, 21, 25]\n",
    "n = input(\"Introduce un número del 1 al 30: \")\n",
    "numeros.append(8)\n",
    "\n"
   ]
  },
  {
   "cell_type": "code",
   "execution_count": null,
   "id": "db7981a9",
   "metadata": {},
   "outputs": [],
   "source": [
    "numeros = [1, 2, 3, 16, 18, 21, 25]\n",
    "n = int(input(\"Introduce un número del 1 al 30: \"))\n",
    "if n in numeros:\n",
    "    print(f\"El número {n} ya se encuentra en la lista\")\n",
    "    \n",
    "else:\n",
    "    numeros.append(n)\n",
    "    numeros.sort()\n",
    "    print (numeros)"
   ]
  },
  {
   "cell_type": "code",
   "execution_count": null,
   "id": "fac863d1",
   "metadata": {},
   "outputs": [],
   "source": [
    "n = input(\"Introduce un número: \")\n",
    "lista = list(n)\n",
    "lista_copia = lista.copy()\n",
    "lista_copia.reverse()\n",
    "if lista_copia == lista:\n",
    "    print(f\"El número {n} es capicúa\")\n",
    "else:\n",
    "    print(f\"El número {n} no es capicúa\")\n"
   ]
  },
  {
   "cell_type": "code",
   "execution_count": null,
   "id": "65b0b268",
   "metadata": {},
   "outputs": [],
   "source": [
    "n = 121\n",
    "texto = str(n)\n",
    "reverso= texto[::-1]\n",
    "if texto == reverso:\n",
    "    print(f\"{texto} es capicúa\")\n",
    "else:\n",
    "    print(f\"{texto} no es capicúa\")\n"
   ]
  },
  {
   "cell_type": "code",
   "execution_count": null,
   "id": "b8bfec38",
   "metadata": {},
   "outputs": [],
   "source": [
    "\n"
   ]
  },
  {
   "cell_type": "code",
   "execution_count": null,
   "id": "5e92cf37",
   "metadata": {},
   "outputs": [],
   "source": []
  }
 ],
 "metadata": {
  "kernelspec": {
   "display_name": "Python 3 (ipykernel)",
   "language": "python",
   "name": "python3"
  },
  "language_info": {
   "codemirror_mode": {
    "name": "ipython",
    "version": 3
   },
   "file_extension": ".py",
   "mimetype": "text/x-python",
   "name": "python",
   "nbconvert_exporter": "python",
   "pygments_lexer": "ipython3",
   "version": "3.9.13"
  }
 },
 "nbformat": 4,
 "nbformat_minor": 5
}
