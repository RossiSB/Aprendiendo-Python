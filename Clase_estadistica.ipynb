{
 "cells": [
  {
   "cell_type": "markdown",
   "id": "e155f31d",
   "metadata": {},
   "source": [
    "# Estadística Básica"
   ]
  },
  {
   "cell_type": "markdown",
   "id": "fca4fcdf",
   "metadata": {},
   "source": [
    "**MEDIA**"
   ]
  },
  {
   "cell_type": "code",
   "execution_count": 3,
   "id": "3787aee4",
   "metadata": {},
   "outputs": [
    {
     "name": "stdout",
     "output_type": "stream",
     "text": [
      "5.285714285714286\n"
     ]
    }
   ],
   "source": [
    "import statistics\n",
    "datos = [5,6,3,9,2,4,8]\n",
    "print(statistics.mean(datos))"
   ]
  },
  {
   "cell_type": "code",
   "execution_count": 4,
   "id": "8c4d049b",
   "metadata": {},
   "outputs": [
    {
     "name": "stdout",
     "output_type": "stream",
     "text": [
      "5.285714285714286\n"
     ]
    }
   ],
   "source": [
    "import numpy\n",
    "datos = numpy.array([5,6,3,9,2,4,8])\n",
    "print(numpy.mean(datos))\n"
   ]
  },
  {
   "cell_type": "code",
   "execution_count": 5,
   "id": "beeec109",
   "metadata": {},
   "outputs": [
    {
     "name": "stdout",
     "output_type": "stream",
     "text": [
      "Datos1    4.333333\n",
      "Datos2    4.666667\n",
      "dtype: float64\n"
     ]
    }
   ],
   "source": [
    "import pandas\n",
    "df = pandas.DataFrame({'Datos1':[4,6,3],'Datos2':[7,1,6]})\n",
    "4\n",
    "print(df.mean())"
   ]
  },
  {
   "cell_type": "markdown",
   "id": "b02f30fe",
   "metadata": {},
   "source": [
    "**MEDIANA**"
   ]
  },
  {
   "cell_type": "code",
   "execution_count": 6,
   "id": "c29d3842",
   "metadata": {},
   "outputs": [
    {
     "name": "stdout",
     "output_type": "stream",
     "text": [
      "5.0\n"
     ]
    }
   ],
   "source": [
    "import numpy\n",
    "datos = numpy.array([2,3,4,5,6,8,9])\n",
    "print(numpy.median(datos))"
   ]
  },
  {
   "cell_type": "code",
   "execution_count": 8,
   "id": "c9c8dc79",
   "metadata": {},
   "outputs": [
    {
     "name": "stdout",
     "output_type": "stream",
     "text": [
      "5.5\n"
     ]
    }
   ],
   "source": [
    "import numpy\n",
    "datos = numpy.array([2,3,4,5,6,7,8,9])\n",
    "print(numpy.median(datos))"
   ]
  },
  {
   "cell_type": "code",
   "execution_count": 9,
   "id": "04c5312e",
   "metadata": {},
   "outputs": [
    {
     "name": "stdout",
     "output_type": "stream",
     "text": [
      "Datos1    5.0\n",
      "Datos2    3.5\n",
      "dtype: float64\n"
     ]
    }
   ],
   "source": [
    "import pandas\n",
    "5\n",
    "df = pandas.DataFrame({'Datos1':[4,6],'Datos2':[1,6]})\n",
    "print(df.median())"
   ]
  },
  {
   "cell_type": "markdown",
   "id": "4d26dd26",
   "metadata": {},
   "source": [
    "**Cuartiles y Percentiles**"
   ]
  },
  {
   "cell_type": "code",
   "execution_count": 11,
   "id": "c0353032",
   "metadata": {},
   "outputs": [
    {
     "name": "stdout",
     "output_type": "stream",
     "text": [
      "7.0 10.0 13.0\n"
     ]
    }
   ],
   "source": [
    "import numpy\n",
    "datos = [3,6,8,14,12,10,16]\n",
    "q1 = numpy.quantile(datos,0.25)\n",
    "q2 = numpy.quantile(datos,0.5)\n",
    "q3 = numpy.quantile(datos,0.75)\n",
    "print(q1, q2, q3)"
   ]
  },
  {
   "cell_type": "markdown",
   "id": "a7291f6b",
   "metadata": {},
   "source": [
    "## Ejercicio "
   ]
  },
  {
   "cell_type": "code",
   "execution_count": 44,
   "id": "4492d60c",
   "metadata": {},
   "outputs": [
    {
     "data": {
      "text/html": [
       "<div>\n",
       "<style scoped>\n",
       "    .dataframe tbody tr th:only-of-type {\n",
       "        vertical-align: middle;\n",
       "    }\n",
       "\n",
       "    .dataframe tbody tr th {\n",
       "        vertical-align: top;\n",
       "    }\n",
       "\n",
       "    .dataframe thead th {\n",
       "        text-align: right;\n",
       "    }\n",
       "</style>\n",
       "<table border=\"1\" class=\"dataframe\">\n",
       "  <thead>\n",
       "    <tr style=\"text-align: right;\">\n",
       "      <th></th>\n",
       "      <th>Id_paciente</th>\n",
       "      <th>Edad</th>\n",
       "      <th>n_cigarrillos_diarios</th>\n",
       "      <th>Esperanza_vida</th>\n",
       "    </tr>\n",
       "  </thead>\n",
       "  <tbody>\n",
       "    <tr>\n",
       "      <th>0</th>\n",
       "      <td>A1</td>\n",
       "      <td>25</td>\n",
       "      <td>10</td>\n",
       "      <td>84</td>\n",
       "    </tr>\n",
       "    <tr>\n",
       "      <th>1</th>\n",
       "      <td>A2</td>\n",
       "      <td>28</td>\n",
       "      <td>8</td>\n",
       "      <td>81</td>\n",
       "    </tr>\n",
       "    <tr>\n",
       "      <th>2</th>\n",
       "      <td>A3</td>\n",
       "      <td>35</td>\n",
       "      <td>14</td>\n",
       "      <td>79</td>\n",
       "    </tr>\n",
       "    <tr>\n",
       "      <th>3</th>\n",
       "      <td>A4</td>\n",
       "      <td>36</td>\n",
       "      <td>18</td>\n",
       "      <td>79</td>\n",
       "    </tr>\n",
       "    <tr>\n",
       "      <th>4</th>\n",
       "      <td>A5</td>\n",
       "      <td>40</td>\n",
       "      <td>20</td>\n",
       "      <td>80</td>\n",
       "    </tr>\n",
       "    <tr>\n",
       "      <th>5</th>\n",
       "      <td>A6</td>\n",
       "      <td>45</td>\n",
       "      <td>15</td>\n",
       "      <td>81</td>\n",
       "    </tr>\n",
       "    <tr>\n",
       "      <th>6</th>\n",
       "      <td>A7</td>\n",
       "      <td>47</td>\n",
       "      <td>22</td>\n",
       "      <td>79</td>\n",
       "    </tr>\n",
       "    <tr>\n",
       "      <th>7</th>\n",
       "      <td>A8</td>\n",
       "      <td>62</td>\n",
       "      <td>25</td>\n",
       "      <td>78</td>\n",
       "    </tr>\n",
       "  </tbody>\n",
       "</table>\n",
       "</div>"
      ],
      "text/plain": [
       "  Id_paciente  Edad  n_cigarrillos_diarios  Esperanza_vida\n",
       "0          A1    25                     10              84\n",
       "1          A2    28                      8              81\n",
       "2          A3    35                     14              79\n",
       "3          A4    36                     18              79\n",
       "4          A5    40                     20              80\n",
       "5          A6    45                     15              81\n",
       "6          A7    47                     22              79\n",
       "7          A8    62                     25              78"
      ]
     },
     "execution_count": 44,
     "metadata": {},
     "output_type": "execute_result"
    }
   ],
   "source": [
    "#Sea el siguiente conjunto de datos donde:\n",
    "#id_paciente: identificación de paciente\n",
    "#edad: edad del cliente\n",
    "#n_cigarrillos_diarios: número de cigarrillos al día\n",
    "#esperanza de vida estimada: esperanza de vida estimada\n",
    "import statistics\n",
    "import matplotlib.pyplot as plt\n",
    "import pandas as pd\n",
    "import seaborn as sns\n",
    "pacientes = {\"Id_paciente\": [\"A1\", \"A2\", \"A3\", \"A4\", \"A5\", \"A6\", \"A7\", \"A8\"], \n",
    "             \"Edad\" : [25, 28, 35, 36, 40, 45, 47, 62], \n",
    "             \"n_cigarrillos_diarios\" : [10, 8, 14, 18, 20, 15, 22, 25], \n",
    "             \"Esperanza_vida\" : [84, 81, 79, 79, 80, 81, 79, 78]}\n",
    "df_pacientes = pd.DataFrame(pacientes)\n",
    "df_pacientes.head(8)\n",
    "#a) Calcula la media, la mediana, la desviación típica y el rango intercuartílico de la variable edad, cigarrilos y esperanza de vida.\n",
    "#b) Representa estas variables con un gráfico de cajas y bigotes.\n",
    "#c) Calcula la matriz de correlación de Pearson entre variables. ¿Hay alguna relación lineal entre las variables?\n",
    "#d) Calcula la matriz de correlación entre variables para los pacientes con consumo de tabaco > mediana y menor. ¿Hay alguna diferencia?"
   ]
  },
  {
   "cell_type": "code",
   "execution_count": 48,
   "id": "01c2e833",
   "metadata": {},
   "outputs": [
    {
     "name": "stdout",
     "output_type": "stream",
     "text": [
      "            Edad  n_cigarrillos_diarios  Esperanza_vida\n",
      "count   8.000000                 8.0000        8.000000\n",
      "mean   39.750000                16.5000       80.125000\n",
      "std    11.756457                 5.8554        1.885092\n",
      "min    25.000000                 8.0000       78.000000\n",
      "25%    33.250000                13.0000       79.000000\n",
      "50%    38.000000                16.5000       79.500000\n",
      "75%    45.500000                20.5000       81.000000\n",
      "max    62.000000                25.0000       84.000000\n"
     ]
    }
   ],
   "source": [
    "#a) Calcula la media, la mediana, la desviación típica y el rango intercuartílico de la variable edad, cigarrilos y esperanza de vida\n",
    "columnas = df_pacientes.loc[:, [\"Edad\",\"n_cigarrillos_diarios\",\"Esperanza_vida\"]].describe()\n",
    "print(columnas)\n"
   ]
  },
  {
   "cell_type": "code",
   "execution_count": 39,
   "id": "289f099d",
   "metadata": {},
   "outputs": [
    {
     "data": {
      "image/png": "[encoded data removed]",
      "text/plain": [
       "<Figure size 640x480 with 1 Axes>"
      ]
     },
     "metadata": {},
     "output_type": "display_data"
    }
   ],
   "source": [
    "#b) Representa estas variables con un gráfico de cajas y bigotes.\n",
    "fig, ax = plt.subplots()\n",
    "ax.boxplot(columnas.values)\n",
    "ax.set_xticklabels(columnas.columns)\n",
    "plt.show()\n"
   ]
  },
  {
   "cell_type": "code",
   "execution_count": 40,
   "id": "20dc6810",
   "metadata": {},
   "outputs": [
    {
     "data": {
      "image/png": "[encoded data removed]",
      "text/plain": [
       "<Figure size 640x480 with 1 Axes>"
      ]
     },
     "metadata": {},
     "output_type": "display_data"
    }
   ],
   "source": [
    "columnas.boxplot()\n",
    "plt.show()"
   ]
  },
  {
   "cell_type": "code",
   "execution_count": null,
   "id": "86dbebd8",
   "metadata": {},
   "outputs": [],
   "source": [
    "#c) Calcula la matriz de correlación de Pearson entre variables. ¿Hay alguna relación lineal entre las variables?"
   ]
  },
  {
   "cell_type": "code",
   "execution_count": 43,
   "id": "daaeee1a",
   "metadata": {},
   "outputs": [
    {
     "name": "stdout",
     "output_type": "stream",
     "text": [
      "                           Edad  n_cigarrillos_diarios  Esperanza_vida\n",
      "Edad                   1.000000               0.879903       -0.701007\n",
      "n_cigarrillos_diarios  0.879903               1.000000       -0.744185\n",
      "Esperanza_vida        -0.701007              -0.744185        1.000000\n"
     ]
    }
   ],
   "source": [
    "matrix = df_pacientes.corr(method=\"pearson\")\n",
    "print(matrix)"
   ]
  },
  {
   "cell_type": "code",
   "execution_count": 46,
   "id": "87a4c7eb",
   "metadata": {},
   "outputs": [
    {
     "name": "stdout",
     "output_type": "stream",
     "text": [
      "AxesSubplot(0.125,0.11;0.62x0.77)\n"
     ]
    },
    {
     "data": {
      "image/png": "[encoded data removed]",
      "text/plain": [
       "<Figure size 640x480 with 2 Axes>"
      ]
     },
     "metadata": {},
     "output_type": "display_data"
    }
   ],
   "source": [
    "#mapa de calor\n",
    "calor= sns.heatmap(matrix, annot =True, cmap=\"coolwarm\")\n",
    "print(calor)"
   ]
  },
  {
   "cell_type": "code",
   "execution_count": 57,
   "id": "ee43853a",
   "metadata": {},
   "outputs": [
    {
     "name": "stdout",
     "output_type": "stream",
     "text": [
      "16.5\n"
     ]
    }
   ],
   "source": [
    "\n",
    "mediana_cigarrillos = df_pacientes.loc[: ,\"n_cigarrillos_diarios\"].median()\n",
    "print(mediana_cigarrillos)"
   ]
  },
  {
   "cell_type": "code",
   "execution_count": 61,
   "id": "22578de5",
   "metadata": {},
   "outputs": [
    {
     "name": "stdout",
     "output_type": "stream",
     "text": [
      "Matriz de correlación para pacientes con consumo de tabaco mayor que la mediana:\n",
      "                            Edad  n_cigarrillos_diarios  Esperanza_vida\n",
      "Edad                   1.000000               0.982936       -0.784964\n",
      "n_cigarrillos_diarios  0.982936               1.000000       -0.683586\n",
      "Esperanza_vida        -0.784964              -0.683586        1.000000\n",
      "Matriz de correlación para pacientes con consumo de tabaco menor o igual que la mediana:\n",
      "                            Edad  n_cigarrillos_diarios  Esperanza_vida\n",
      "Edad                   1.000000               0.865943       -0.514184\n",
      "n_cigarrillos_diarios  0.865943               1.000000       -0.477138\n",
      "Esperanza_vida        -0.514184              -0.477138        1.000000\n"
     ]
    }
   ],
   "source": [
    "mayor_mediana = df_pacientes.loc[df_pacientes[\"n_cigarrillos_diarios\"] > mediana_cigarrillos]\n",
    "menor_mediana = df_pacientes.loc[df_pacientes[\"n_cigarrillos_diarios\"] < mediana_cigarrillos]\n",
    "corr_mayor = mayor_mediana.corr()\n",
    "corr_menor = menor_mediana.corr()\n",
    "print(\"Matriz de correlación para pacientes con consumo de tabaco mayor que la mediana:\\n\", corr_mayor)\n",
    "\n",
    "\n",
    "print(\"Matriz de correlación para pacientes con consumo de tabaco menor o igual que la mediana:\\n\", corr_menor)\n"
   ]
  },
  {
   "cell_type": "code",
   "execution_count": null,
   "id": "58cda8e0",
   "metadata": {},
   "outputs": [],
   "source": []
  }
 ],
 "metadata": {
  "kernelspec": {
   "display_name": "Python 3 (ipykernel)",
   "language": "python",
   "name": "python3"
  },
  "language_info": {
   "codemirror_mode": {
    "name": "ipython",
    "version": 3
   },
   "file_extension": ".py",
   "mimetype": "text/x-python",
   "name": "python",
   "nbconvert_exporter": "python",
   "pygments_lexer": "ipython3",
   "version": "3.9.13"
  }
 },
 "nbformat": 4,
 "nbformat_minor": 5
}
