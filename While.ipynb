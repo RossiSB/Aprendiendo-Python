{
 "cells": [
  {
   "cell_type": "markdown",
   "id": "19c40f9e",
   "metadata": {},
   "source": [
    "# Bucle While\n",
    "## La estructura de una sentencia while es:\n",
    "while condición a cumplir:\n",
    "código a ejecutar\n",
    "Esto quiere decir que, si se cumple la condición que está después del while, entonces se\n",
    "ejecutará el código que está debajo del while. Y esto se va a ejecutar continuamente mientras\n",
    "se cumpla la condición."
   ]
  },
  {
   "cell_type": "code",
   "execution_count": 1,
   "id": "9d4fb82a",
   "metadata": {},
   "outputs": [
    {
     "name": "stdout",
     "output_type": "stream",
     "text": [
      "0 0.6276726651795664\n",
      "0 0.6376726651795664\n",
      "0 0.6476726651795665\n",
      "0 0.6576726651795665\n",
      "0 0.6676726651795665\n",
      "0 0.6776726651795665\n",
      "0 0.6876726651795665\n",
      "0 0.6976726651795665\n",
      "0 0.7076726651795665\n",
      "0 0.7176726651795665\n",
      "0 0.7276726651795665\n",
      "0 0.7376726651795665\n",
      "0 0.7476726651795665\n",
      "0 0.7576726651795666\n",
      "0 0.7676726651795666\n",
      "0 0.7776726651795666\n",
      "0 0.7876726651795666\n",
      "0 0.7976726651795666\n",
      "0 0.8076726651795666\n",
      "0 0.8176726651795666\n",
      "0 0.8276726651795666\n",
      "0 0.8376726651795666\n",
      "0 0.8476726651795666\n",
      "0 0.8576726651795666\n",
      "0 0.8676726651795666\n",
      "0 0.8776726651795667\n",
      "0 0.8876726651795667\n",
      "0 0.8976726651795667\n",
      "0 0.9076726651795667\n",
      "0 0.9176726651795667\n",
      "0 0.9276726651795667\n",
      "0 0.9376726651795667\n",
      "0 0.9476726651795667\n",
      "0 0.9576726651795667\n",
      "0 0.9676726651795667\n",
      "0 0.9776726651795667\n",
      "0 0.9876726651795668\n",
      "0 0.9976726651795668\n"
     ]
    }
   ],
   "source": [
    "#números al azar menores que 1\n",
    "import random\n",
    "\n",
    "numero = random.random()\n",
    "contar=0\n",
    "contar+1\n",
    "while numero < 1:\n",
    "    print(contar,numero)\n",
    "    \n",
    "    numero += 0.01"
   ]
  },
  {
   "cell_type": "code",
   "execution_count": 2,
   "id": "68b6810f",
   "metadata": {},
   "outputs": [
    {
     "name": "stdout",
     "output_type": "stream",
     "text": [
      "1 0.7454122467210887\n",
      "2 0.7554122467210888\n",
      "3 0.7654122467210888\n",
      "4 0.7754122467210888\n",
      "5 0.7854122467210888\n",
      "6 0.7954122467210888\n",
      "7 0.8054122467210888\n",
      "8 0.8154122467210888\n",
      "9 0.8254122467210888\n",
      "10 0.8354122467210888\n",
      "11 0.8454122467210888\n",
      "12 0.8554122467210888\n",
      "13 0.8654122467210889\n",
      "14 0.8754122467210889\n",
      "15 0.8854122467210889\n",
      "16 0.8954122467210889\n",
      "17 0.9054122467210889\n",
      "18 0.9154122467210889\n",
      "19 0.9254122467210889\n",
      "20 0.9354122467210889\n",
      "21 0.9454122467210889\n",
      "22 0.9554122467210889\n",
      "23 0.9654122467210889\n",
      "24 0.975412246721089\n",
      "25 0.985412246721089\n",
      "26 0.995412246721089\n"
     ]
    }
   ],
   "source": [
    "import random\n",
    "\n",
    "numero = random.random()\n",
    "contar = 0\n",
    "\n",
    "while numero < 1:\n",
    "    contar += 1\n",
    "    print(contar, numero)\n",
    "    numero += 0.01"
   ]
  },
  {
   "cell_type": "code",
   "execution_count": 3,
   "id": "186a02f3",
   "metadata": {},
   "outputs": [
    {
     "name": "stdout",
     "output_type": "stream",
     "text": [
      "Introduce una palabra: alegria\n",
      "a\n",
      "l\n",
      "e\n",
      "g\n",
      "r\n",
      "i\n",
      "a\n"
     ]
    }
   ],
   "source": [
    "# Mientras el contador sea menor que la longitud de la palabra,\n",
    "# itera a través de cada letra de la palabra e imprime la letra\n",
    "\n",
    "palabra = input(\"Introduce una palabra: \")\n",
    "i=0\n",
    "while i<len(palabra):\n",
    "   print (palabra[i])\n",
    "   i+=1\n",
    "    \n"
   ]
  },
  {
   "cell_type": "code",
   "execution_count": 4,
   "id": "f285a9ae",
   "metadata": {},
   "outputs": [
    {
     "name": "stdout",
     "output_type": "stream",
     "text": [
      "Introduce el primer entero: 20\n",
      "Introduce el segundo número: 9\n",
      "9\n"
     ]
    }
   ],
   "source": [
    "entero1= int(input(\"Introduce el primer entero: \"))\n",
    "entero2 = int(input(\"Introduce el segundo número: \"))\n",
    "if entero1 >= entero2:\n",
    "    print(entero2)\n",
    "    entero2+=0.5\n",
    "else: \n",
    "    while entero1 <= entero2:\n",
    "        print(entero1)\n",
    "        entero1+=0.5\n",
    "  "
   ]
  },
  {
   "cell_type": "code",
   "execution_count": 5,
   "id": "1f25abc0",
   "metadata": {},
   "outputs": [
    {
     "name": "stdout",
     "output_type": "stream",
     "text": [
      "Población en 2050 (escenario positivo): 53117492\n",
      "Población en 2050 (escenario estancado): 47633179\n",
      "Población en 2050 (escenario negativo): 44910590\n"
     ]
    }
   ],
   "source": [
    "poblacion_2022 = 47500000\n",
    "crecimiento_positivo = 0.004\n",
    "anios_transcurridos = 2050 - 2022\n",
    "poblacion_positiva_2050 = poblacion_2022 * (1 + crecimiento_positivo) ** anios_transcurridos\n",
    "print(\"Población en 2050 (escenario positivo):\", int(poblacion_positiva_2050))\n",
    "crecimiento_estancado = 0.0001\n",
    "poblacion_estancada_2050 = poblacion_2022 * (1 + crecimiento_estancado) ** anios_transcurridos\n",
    "print(\"Población en 2050 (escenario estancado):\", int(poblacion_estancada_2050))\n",
    "decrecimiento_negativo = -0.002\n",
    "poblacion_negativa_2050 = poblacion_2022 * (1 + decrecimiento_negativo) ** anios_transcurridos\n",
    "print(\"Población en 2050 (escenario negativo):\", int(poblacion_negativa_2050))"
   ]
  },
  {
   "cell_type": "code",
   "execution_count": 6,
   "id": "292ef7fc",
   "metadata": {},
   "outputs": [
    {
     "name": "stdout",
     "output_type": "stream",
     "text": [
      "¿Cuánto dinero quieres ahorrar? 1000\n",
      "¿Cuánto dinero metes en la hucha? 500\n",
      "¿Cuánto dinero metes en la hucha? 400\n",
      "¿Cuánto dinero metes en la hucha? 200\n",
      "Genial, has conseguido llegar a tu objetivo y has ahorrado 1100.0\n"
     ]
    }
   ],
   "source": [
    "objetivo = float(input(\"¿Cuánto dinero quieres ahorrar? \"))\n",
    "ahorrado = 0\n",
    "\n",
    "while ahorrado < objetivo:\n",
    "    metido = float(input(\"¿Cuánto dinero metes en la hucha? \"))\n",
    "    ahorrado += metido\n",
    "\n",
    "print(\"Genial, has conseguido llegar a tu objetivo y has ahorrado\", ahorrado)\n"
   ]
  },
  {
   "cell_type": "code",
   "execution_count": 7,
   "id": "28f2aea6",
   "metadata": {},
   "outputs": [
    {
     "name": "stdout",
     "output_type": "stream",
     "text": [
      "¿Cuál de estas palabras te define mejor?\n",
      "  1 Soñador\n",
      "  2 Objetivo\n",
      "  3 Influenciador\n",
      "  4 Sensible\n",
      "Introduce el número correspondiente a tu respuesta: 2\n",
      "Cuando vas a empezar un nuevo proyecto,¿qué es lo primero en lo que piensas?\n",
      "  1 En lo que puede salir bien y lo que puede salir mal, para prevenir las consecuencias.\n",
      "  2 En lo que el proyecto va a aportar a los demás.\n",
      "  3 En las ideas que se me pasan por la cabeza para llevarlo a cabo.\n",
      "  4 En cómo voy a motivar al equipo para llevarlo a cabo.\n",
      "Introduce el número correspondiente a tu respuesta: 2\n",
      "¿Cómo crees que se deben llevar a cabo los proyectos?\n",
      "  1 Con pasión y constancia.\n",
      "  2 Centrándose en un foco concreto cada vez.\n",
      "  3 Pensando en el equipo.\n",
      "  4 De forma íntegra.\n",
      "Introduce el número correspondiente a tu respuesta: 1\n",
      "Eres un Emprendedor especialista\n"
     ]
    }
   ],
   "source": [
    "#pregunta 1\n",
    "V=0\n",
    "E=0\n",
    "P=0\n",
    "S=0\n",
    "\n",
    "print(\"¿Cuál de estas palabras te define mejor?\")\n",
    "print(\"  1 Soñador\")\n",
    "print(\"  2 Objetivo\")\n",
    "print(\"  3 Influenciador\")\n",
    "print(\"  4 Sensible\")\n",
    "\n",
    "respuesta1 = int(input(\"Introduce el número correspondiente a tu respuesta: \"))\n",
    "\n",
    "if respuesta1 == 1:\n",
    "    V+=1\n",
    "elif respuesta1 == 2:\n",
    "    E+=1\n",
    "elif respuesta1 == 3:\n",
    "    P+=1\n",
    "elif respuesta1 == 4:\n",
    "    S+=1\n",
    "else:\n",
    "    print(\"Respuesta inválida. Introduce un número del 1 al 4.\")\n",
    "    \n",
    "#pregunta 2\n",
    "\n",
    "print(\"Cuando vas a empezar un nuevo proyecto,¿qué es lo primero en lo que piensas?\")\n",
    "print(\"  1 En lo que puede salir bien y lo que puede salir mal, para prevenir las consecuencias.\")\n",
    "print(\"  2 En lo que el proyecto va a aportar a los demás.\")\n",
    "print(\"  3 En las ideas que se me pasan por la cabeza para llevarlo a cabo.\")\n",
    "print(\"  4 En cómo voy a motivar al equipo para llevarlo a cabo.\")\n",
    "\n",
    "respuesta2 = int(input(\"Introduce el número correspondiente a tu respuesta: \"))   \n",
    "if respuesta2 ==1:\n",
    "    E+=1\n",
    "elif respuesta2 ==2:\n",
    "    S+=1\n",
    "elif respuesta2 == 3:\n",
    "    V+=1\n",
    "elif respuesta2 == 4:\n",
    "    P+=1\n",
    "else:\n",
    "    print(\"Respuesta inválida. Introduce un número del 1 al 4.\")    \n",
    "\n",
    "#pregunta 3\n",
    "\n",
    "print(\"¿Cómo crees que se deben llevar a cabo los proyectos?\")\n",
    "print(\"  1 Con pasión y constancia.\")\n",
    "print(\"  2 Centrándose en un foco concreto cada vez.\")\n",
    "print(\"  3 Pensando en el equipo.\")\n",
    "print(\"  4 De forma íntegra.\")\n",
    "\n",
    "respuesta3 = int(input(\"Introduce el número correspondiente a tu respuesta: \"))\n",
    "\n",
    "if respuesta3 ==1:\n",
    "    V+=1\n",
    "elif respuesta3 ==2:\n",
    "    E+=1\n",
    "elif respuesta3 == 3:\n",
    "    P+=1\n",
    "elif respuesta3 == 4:\n",
    "    S+=1\n",
    "else:\n",
    "    print(\"Respuesta inválida. Introduce un número del 1 al 4.\")\n",
    "    \n",
    "# Sumar las respuestas\n",
    "puntuaciones = [0, 0, 0, 0]\n",
    "puntuaciones[respuesta1 - 1] += 1\n",
    "puntuaciones[respuesta2 - 1] += 1\n",
    "puntuaciones[respuesta3 - 1] += 1\n",
    "\n",
    "# Encontrar la puntuación más alta\n",
    "max_puntuacion = max(puntuaciones)\n",
    "\n",
    "# Encontrar los tipos de emprendedores que tienen la puntuación más alta\n",
    "tipos_emprendedores = []\n",
    "for i in range(len(puntuaciones)):\n",
    "    if puntuaciones[i] == max_puntuacion:\n",
    "        if i == 0:\n",
    "            tipos_emprendedores.append(\"Emprendedor visionario\")\n",
    "        elif i == 1:\n",
    "            tipos_emprendedores.append(\"Emprendedor especialista\")\n",
    "        elif i == 2:\n",
    "            tipos_emprendedores.append(\"Emprendedor persuasivo\")\n",
    "        elif i == 3:\n",
    "            tipos_emprendedores.append(\"Emprendedor social\")\n",
    "\n",
    "# Imprimir el resultado\n",
    "if len(tipos_emprendedores) == 1:\n",
    "    print(\"Eres un\", tipos_emprendedores[0])\n",
    "else:\n",
    "    tipos = \"\"\n",
    "    for i in range(len(tipos_emprendedores)):\n",
    "        if i == 0:\n",
    "            tipos += tipos_emprendedores[i]\n",
    "        elif i == len(tipos_emprendedores) - 1:\n",
    "            tipos += \" y \" + tipos_emprendedores[i]\n",
    "        else:\n",
    "            tipos += \", \" + tipos_emprendedores[i]\n",
    "    print(\"Eres un\", tipos)\n"
   ]
  },
  {
   "cell_type": "code",
   "execution_count": 8,
   "id": "b1c53b51",
   "metadata": {},
   "outputs": [
    {
     "name": "stdout",
     "output_type": "stream",
     "text": [
      "Ingrese código PIN: 5248\n",
      "El PIN es incorrecto. Inténtelo de nuevo: \n",
      "Ingrese código PIN: 1234\n",
      "PIN aceptado:\n"
     ]
    }
   ],
   "source": [
    "PIN= int(input(\"Ingrese código PIN: \"))\n",
    "codigo=1234\n",
    "while PIN !=codigo:\n",
    "    print(\"El PIN es incorrecto. Inténtelo de nuevo: \")\n",
    "\n",
    "    PIN= int(input(\"Ingrese código PIN: \"))\n",
    "if PIN==codigo:\n",
    "\n",
    "    print(\"PIN aceptado:\")\n",
    "\n",
    "   "
   ]
  },
  {
   "cell_type": "code",
   "execution_count": 9,
   "id": "3148456c",
   "metadata": {},
   "outputs": [
    {
     "name": "stdout",
     "output_type": "stream",
     "text": [
      "Ingresa un número 5\n",
      "Ingresa un número 8\n",
      "Ingresa un número 0\n",
      "La suma de los números ingresados es: 13\n"
     ]
    }
   ],
   "source": [
    "#sum va antes de la ingresar nuevamente un número poque deve ir sumando el importe ingresado \n",
    "num = int(input(\"Ingresa un número \"))\n",
    "sum =0\n",
    "\n",
    "while num !=0:\n",
    "    sum += num\n",
    "    num= int(input(\"Ingresa un número \" ))\n",
    "    \n",
    "print(\"La suma de los números ingresados es:\",sum)\n",
    "    \n",
    "    "
   ]
  },
  {
   "cell_type": "code",
   "execution_count": 10,
   "id": "4ee9eb37",
   "metadata": {},
   "outputs": [
    {
     "name": "stdout",
     "output_type": "stream",
     "text": [
      "¿Cuánto dinero quieres ahorrar? 8000\n",
      "¿Cuánto dinero metes en la hucha? 400\n",
      "¿Cuánto dinero metes en la hucha? 900\n",
      "¿Cuánto dinero metes en la hucha? 500\n",
      "¿Cuánto dinero metes en la hucha? 400\n",
      "¿Cuánto dinero metes en la hucha? 500\n",
      "¿Cuánto dinero metes en la hucha? 822\n",
      "¿Cuánto dinero metes en la hucha? 822\n",
      "¿Cuánto dinero metes en la hucha? 400\n",
      "¿Cuánto dinero metes en la hucha? 900\n",
      "¿Cuánto dinero metes en la hucha? 500\n",
      "¿Cuánto dinero metes en la hucha? 450\n",
      "¿Cuánto dinero metes en la hucha? 900\n",
      "¿Cuánto dinero metes en la hucha? 1500\n",
      "¡Maravilloso, has conseguido llegar a tu objetivo y has ahorrado 8994.0 !\n"
     ]
    }
   ],
   "source": [
    "#ahorro = sumar va después de pedir el depósito para llegar a la meta \n",
    "objetivo = float(input(\"¿Cuánto dinero quieres ahorrar? \"))\n",
    "ahorro = 0\n",
    "\n",
    "while ahorro < objetivo:\n",
    "    deposito = float(input(\"¿Cuánto dinero metes en la hucha? \"))\n",
    "    ahorro += deposito\n",
    "\n",
    "print(\"¡Maravilloso, has conseguido llegar a tu objetivo y has ahorrado\", ahorro,\"!\")\n"
   ]
  },
  {
   "cell_type": "code",
   "execution_count": 11,
   "id": "eb1223ad",
   "metadata": {},
   "outputs": [
    {
     "name": "stdout",
     "output_type": "stream",
     "text": [
      "Introduce un número positivo:8\n",
      "Introduce un número positivo:9\n",
      "Introduce un número positivo:-5\n",
      "9\n"
     ]
    }
   ],
   "source": [
    "resultado = -1\n",
    "numero = int(input(\"Introduce un número positivo:\"))\n",
    "while numero > 0:\n",
    "    if numero > resultado:\n",
    "        resultado = numero\n",
    "    numero = int(input(\"Introduce un número positivo:\"))\n",
    "print(resultado)\n"
   ]
  },
  {
   "cell_type": "code",
   "execution_count": 14,
   "id": "2249bf32",
   "metadata": {},
   "outputs": [
    {
     "name": "stdout",
     "output_type": "stream",
     "text": [
      "Ingrese un número positivo: 58\n",
      "La suma de los dígitos del número es: 13\n"
     ]
    }
   ],
   "source": [
    "#d rerpresenta a cada digito dentro de número\n",
    "numero =(input(\"Ingrese un número positivo: \"))\n",
    "suma = 0\n",
    "\n",
    "for d in numero:\n",
    "    suma +=int(d)\n",
    "\n",
    "print(\"La suma de los dígitos del número es:\", suma)\n"
   ]
  },
  {
   "cell_type": "code",
   "execution_count": 13,
   "id": "50e8debf",
   "metadata": {},
   "outputs": [
    {
     "name": "stdout",
     "output_type": "stream",
     "text": [
      "Ingrese un número positivo: 89\n",
      "La suma de los dígitos del número es: 17\n"
     ]
    }
   ],
   "source": [
    "numero = input(\"Ingrese un número positivo: \")\n",
    "suma_digitos = 0\n",
    "\n",
    "for digito in numero:\n",
    "    suma_digitos += int(digito)\n",
    "\n",
    "print(\"La suma de los dígitos del número es:\", suma_digitos)\n"
   ]
  },
  {
   "cell_type": "code",
   "execution_count": null,
   "id": "8815d0ad",
   "metadata": {},
   "outputs": [],
   "source": [
    "palabra = input(\"Escribe una palabra: \")\n",
    "while palabra != \"salir\":\n",
    "    print(\"La palabra que has escrito es:\", palabra)\n",
    "    palabra = input(\"Escribe otra palabra: \")\n",
    "print(\"Adiós!\")\n"
   ]
  },
  {
   "cell_type": "code",
   "execution_count": null,
   "id": "91d466b1",
   "metadata": {},
   "outputs": [],
   "source": [
    "\n",
    "num = int(input(\"Introduce un número mayor que 2: \"))\n",
    "if num <= 2:\n",
    "    print(\"El número debe ser mayor que 2.\")\n",
    "    num = int(input(\"Introduce un número mayor que 2: \"))\n",
    "    \n",
    "es_primo = True\n",
    "for divisor in range(2,num):\n",
    "        if num % divisor == 0:\n",
    "            es_primo = False\n",
    "            break\n",
    "if es_primo:\n",
    "    print(\"El número\", num, \"es primo.\")\n",
    "else:\n",
    "    print(\"El número\", num, \"no es primo.\")\n",
    "\n"
   ]
  },
  {
   "cell_type": "code",
   "execution_count": null,
   "id": "8ca6e273",
   "metadata": {
    "scrolled": true
   },
   "outputs": [],
   "source": [
    "contador = 0\n",
    "limite = 8\n",
    "while contador < 11:  # el bucle termina cuando contador=10 \n",
    "    if contador == limite:  # o cuando alcance el valor limite \n",
    "        break\n",
    "    else:\n",
    "        contador += 1  # contador se incrementa en 1\n",
    "        print(contador)"
   ]
  }
 ],
 "metadata": {
  "kernelspec": {
   "display_name": "Python 3 (ipykernel)",
   "language": "python",
   "name": "python3"
  },
  "language_info": {
   "codemirror_mode": {
    "name": "ipython",
    "version": 3
   },
   "file_extension": ".py",
   "mimetype": "text/x-python",
   "name": "python",
   "nbconvert_exporter": "python",
   "pygments_lexer": "ipython3",
   "version": "3.9.13"
  }
 },
 "nbformat": 4,
 "nbformat_minor": 5
}
