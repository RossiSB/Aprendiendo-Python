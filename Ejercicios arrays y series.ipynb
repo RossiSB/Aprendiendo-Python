{
 "cells": [
  {
   "cell_type": "markdown",
   "id": "fc34dedc",
   "metadata": {},
   "source": [
    "**Ejercicio 3.2.6\n",
    "Dados dos arrays, a y b, con valores, 1,2,3 y 4,5,6 respectivamente. Calcula la división de a entre b y muestra por pantalla \n",
    "un nuevo array cuyos elementos serán, respectivamente, los valores de a, los valores de b y el resultado de la división entre\n",
    "a y b.**"
   ]
  },
  {
   "cell_type": "code",
   "execution_count": 1,
   "id": "b26514e2",
   "metadata": {},
   "outputs": [
    {
     "name": "stdout",
     "output_type": "stream",
     "text": [
      "[[1.   2.   3.  ]\n",
      " [4.   5.   6.  ]\n",
      " [0.25 0.4  0.5 ]]\n"
     ]
    }
   ],
   "source": [
    "import numpy as np\n",
    "A = np.array([1,2,3])\n",
    "B = np.array([4,5,6])\n",
    "\n",
    "divide = A/B\n",
    "\n",
    "nuevo = np.array([A,B,divide])\n",
    "print(nuevo)\n"
   ]
  },
  {
   "cell_type": "code",
   "execution_count": 7,
   "id": "51b42075",
   "metadata": {},
   "outputs": [
    {
     "name": "stdout",
     "output_type": "stream",
     "text": [
      "[ 6 12 18]\n",
      "[24 30 36]\n",
      "[[ 6 12 18]\n",
      " [24 30 36]]\n",
      "El tipo de elementos son int32 y tienen las siguientes filas y columnas (2, 3)\n"
     ]
    }
   ],
   "source": [
    "import numpy as np\n",
    "\n",
    "A = np.array([1, 2, 3])\n",
    "B = np.array([4, 5, 6])\n",
    "\n",
    "A *= 6\n",
    "B *= 6\n",
    "total = np.array([A,B])\n",
    "print(A)\n",
    "print(B)\n",
    "print(total)\n",
    "print(f\"El tipo de elementos son {total.dtype} y tienen las siguientes filas y columnas {total.shape}\")\n",
    "\n"
   ]
  },
  {
   "cell_type": "code",
   "execution_count": 14,
   "id": "11a8e927",
   "metadata": {},
   "outputs": [
    {
     "name": "stdout",
     "output_type": "stream",
     "text": [
      "0    4\n",
      "1    8\n",
      "2    6\n",
      "3    2\n",
      "4    7\n",
      "5    8\n",
      "6    2\n",
      "7    1\n",
      "8    9\n",
      "dtype: int64\n"
     ]
    }
   ],
   "source": [
    "import pandas as pd\n",
    "serie = pd.Series([4,8,6,2,7,8,2,1,9])\n",
    "#serie_ordenada = serie.sort_values()\n",
    "print(serie)\n",
    "#print(serie_ordenada)\n",
    "\n"
   ]
  },
  {
   "cell_type": "code",
   "execution_count": 34,
   "id": "fc415618",
   "metadata": {},
   "outputs": [
    {
     "name": "stdout",
     "output_type": "stream",
     "text": [
      "A    4\n",
      "B    8\n",
      "C    6\n",
      "D    2\n",
      "E    7\n",
      "F    8\n",
      "G    2\n",
      "H    1\n",
      "I    9\n",
      "dtype: int64\n"
     ]
    }
   ],
   "source": [
    "import pandas as pd\n",
    "import string\n",
    "a = pd.Series([4,8,6,2,7,8,2,1,9])\n",
    "letras = list(string.ascii_uppercase)[:len(a)]\n",
    "a.index = letras\n",
    "print(a)"
   ]
  },
  {
   "cell_type": "code",
   "execution_count": 20,
   "id": "3c9ee18c",
   "metadata": {},
   "outputs": [
    {
     "name": "stdout",
     "output_type": "stream",
     "text": [
      "7\n"
     ]
    }
   ],
   "source": [
    "import pandas as pd\n",
    "serie = pd.Series([4,8,6,2,7,8,2,1,9],index = list(\"abcdefghi\"))\n",
    "\n",
    "#print(serie)\n",
    "print(serie[\"e\"])\n"
   ]
  },
  {
   "cell_type": "code",
   "execution_count": 21,
   "id": "149bc271",
   "metadata": {},
   "outputs": [
    {
     "name": "stdout",
     "output_type": "stream",
     "text": [
      "1     rojo\n",
      "2    verde\n",
      "3     azul\n",
      "dtype: object\n",
      "rojo\n"
     ]
    }
   ],
   "source": [
    "#ejemplo diccionario\n",
    "\n",
    "import pandas\n",
    "diccionario = {1:\"rojo\", 2: \"verde\", 3: \"azul\"}\n",
    "serie = pandas.Series(diccionario)\n",
    "\n",
    "print(serie)\n",
    "print(serie[1])"
   ]
  },
  {
   "cell_type": "code",
   "execution_count": 26,
   "id": "b9fe084b",
   "metadata": {},
   "outputs": [
    {
     "name": "stdout",
     "output_type": "stream",
     "text": [
      "0    1\n",
      "1    5\n",
      "2    0\n",
      "3    8\n",
      "dtype: int64\n"
     ]
    }
   ],
   "source": [
    "import pandas as pd\n",
    "A = pd.Series([1,5,3,8])\n",
    "B = pd.Series([4,8,3,9])\n",
    "\n",
    "resto = A%B\n",
    "\n",
    "\n",
    "print(resto)"
   ]
  },
  {
   "cell_type": "code",
   "execution_count": 28,
   "id": "162e960a",
   "metadata": {},
   "outputs": [
    {
     "name": "stdout",
     "output_type": "stream",
     "text": [
      "0     4\n",
      "1    16\n",
      "2    24\n",
      "3    32\n",
      "dtype: int64\n"
     ]
    }
   ],
   "source": [
    "import pandas as pd\n",
    "a = pd.Series([1,4,6,8])\n",
    "multiplicar = a*4\n",
    "print(multiplicar)"
   ]
  },
  {
   "cell_type": "code",
   "execution_count": 39,
   "id": "c0d510a0",
   "metadata": {},
   "outputs": [
    {
     "name": "stdout",
     "output_type": "stream",
     "text": [
      "0    12\n",
      "1    14\n",
      "2     8\n",
      "3     9\n",
      "4    15\n",
      "5    10\n",
      "6     3\n",
      "7    10\n",
      "dtype: int64\n"
     ]
    }
   ],
   "source": [
    "serie = pd.Series([4,8,6,2,7,8,2,1,9])\n",
    "s = pd.Series([0,0,0,0,0,0,0,0])\n",
    "for i in range(len(serie)-1):\n",
    "    s[i] = serie[i]+serie[i+1]\n",
    "print(s)"
   ]
  },
  {
   "cell_type": "code",
   "execution_count": null,
   "id": "14d2d218",
   "metadata": {},
   "outputs": [],
   "source": []
  }
 ],
 "metadata": {
  "kernelspec": {
   "display_name": "Python 3 (ipykernel)",
   "language": "python",
   "name": "python3"
  },
  "language_info": {
   "codemirror_mode": {
    "name": "ipython",
    "version": 3
   },
   "file_extension": ".py",
   "mimetype": "text/x-python",
   "name": "python",
   "nbconvert_exporter": "python",
   "pygments_lexer": "ipython3",
   "version": "3.9.13"
  }
 },
 "nbformat": 4,
 "nbformat_minor": 5
}
